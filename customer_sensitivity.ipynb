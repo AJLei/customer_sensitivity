{
 "cells": [
  {
   "cell_type": "markdown",
   "id": "f305cae2-6b29-4901-a770-630facc20897",
   "metadata": {},
   "source": [
    "# Import and Check Dataset"
   ]
  },
  {
   "cell_type": "code",
   "execution_count": 1,
   "id": "fdaa431e-7d8a-4bac-a5a9-e5b20de1ac01",
   "metadata": {
    "tags": []
   },
   "outputs": [],
   "source": [
    "import numpy as np\n",
    "import pandas as pd\n",
    "import seaborn as sns\n",
    "import matplotlib.pyplot as plt"
   ]
  },
  {
   "cell_type": "code",
   "execution_count": 2,
   "id": "979cba12-9299-47b4-b4bd-ef837b5249ca",
   "metadata": {
    "tags": []
   },
   "outputs": [
    {
     "name": "stderr",
     "output_type": "stream",
     "text": [
      "/var/folders/29/dmw7b_6j5w999w4qp0m3znym0000gp/T/ipykernel_50942/1967686817.py:1: DtypeWarning: Columns (5) have mixed types. Specify dtype option on import or set low_memory=False.\n",
      "  customer_df = pd.read_csv('/Users/alexlei/Documents/customer_sensitivity.csv')\n"
     ]
    },
    {
     "data": {
      "text/html": [
       "<div>\n",
       "<style scoped>\n",
       "    .dataframe tbody tr th:only-of-type {\n",
       "        vertical-align: middle;\n",
       "    }\n",
       "\n",
       "    .dataframe tbody tr th {\n",
       "        vertical-align: top;\n",
       "    }\n",
       "\n",
       "    .dataframe thead th {\n",
       "        text-align: right;\n",
       "    }\n",
       "</style>\n",
       "<table border=\"1\" class=\"dataframe\">\n",
       "  <thead>\n",
       "    <tr style=\"text-align: right;\">\n",
       "      <th></th>\n",
       "      <th>SUBMISSION_UUID</th>\n",
       "      <th>CUSTOMER_SENSITIVITY_TARGET</th>\n",
       "      <th>SUBMISSION_DATE</th>\n",
       "      <th>DEAL_TYPE</th>\n",
       "      <th>PROGRAM</th>\n",
       "      <th>IS_PRIME_DEAL</th>\n",
       "      <th>SUBMISSION_CATEGORY</th>\n",
       "      <th>STAGE_NAME</th>\n",
       "      <th>SUB_STAGE</th>\n",
       "      <th>MAX_APPROVAL_ISSUED</th>\n",
       "      <th>TERM_MAX_OFFER</th>\n",
       "      <th>BUY_RATE_MAX_OFFER</th>\n",
       "      <th>UPSELL_MAX_OFFER</th>\n",
       "      <th>AMOUNT_ACCEPTED_OFFER</th>\n",
       "      <th>STIP_COUNT</th>\n",
       "      <th>STIPULATIONS</th>\n",
       "      <th>DATE_APPROVED</th>\n",
       "      <th>AVERAGE_TRUE_REVENUE</th>\n",
       "      <th>IS_PREVIOUSLY_FUNDED_CUSTOMER</th>\n",
       "      <th>APBUS_YRS_IN_BUSINESS</th>\n",
       "      <th>APBUS_ENTITY_TYPE</th>\n",
       "      <th>BSMET_DEPOSIT_COUNT_MIN</th>\n",
       "      <th>BSMET_NSFS_AVG</th>\n",
       "      <th>BSMET_REVENUE_VELOCITY</th>\n",
       "      <th>BSMET_NSFS_VELOCITY</th>\n",
       "      <th>BSMUL_OTHER_POSITION_GROSS_DEPOSIT_DOLLARS</th>\n",
       "      <th>PNSCO_PAYNET_SCORE</th>\n",
       "      <th>EMSCO_INTELLISCORE</th>\n",
       "      <th>EMSCO_INTELLISCORE_BUCKET</th>\n",
       "      <th>EMSCO_IP_SCORE</th>\n",
       "      <th>EMSCO_FSR_SCORE</th>\n",
       "      <th>EMSCO_SBCS_V2_ACQ_SCORE</th>\n",
       "      <th>ENSCO_SCORE_FICO_MAX</th>\n",
       "      <th>ENSCO_SCORE_VANTAGE_MAX</th>\n",
       "      <th>ENSCO_SCORE_BANKRUPTCY_MAX</th>\n",
       "      <th>ENAGG_DELINQUENCIES_OVER_30CD_MAX</th>\n",
       "      <th>ENTRA_CRE_MAX_YEARS_SINCE_OPENED_MAX</th>\n",
       "      <th>ENTRA_CRE_DELINQ_CNT_30D_MAX</th>\n",
       "      <th>FIRST_INFERENCE_MODEL_VERSION</th>\n",
       "      <th>FIRST_INFERENCE_MODEL_PREDICTION</th>\n",
       "      <th>FIRST_INFERENCE_MODEL_RISK_SCORE</th>\n",
       "      <th>FIRST_DECISION</th>\n",
       "      <th>POSITIONS</th>\n",
       "      <th>ISO_COMPETING_SUB</th>\n",
       "      <th>FIRST_PARTNER_NAME</th>\n",
       "    </tr>\n",
       "  </thead>\n",
       "  <tbody>\n",
       "    <tr>\n",
       "      <th>0</th>\n",
       "      <td>5affeba1-c9d2-4c32-b515-b27c499c2e9f</td>\n",
       "      <td>False</td>\n",
       "      <td>2025-03-11 15:09:12.067</td>\n",
       "      <td>New Deal</td>\n",
       "      <td>Premium</td>\n",
       "      <td>True</td>\n",
       "      <td>new_sales</td>\n",
       "      <td>Closed Lost</td>\n",
       "      <td>Deal Lost</td>\n",
       "      <td>350000.0</td>\n",
       "      <td>18.0</td>\n",
       "      <td>1.33</td>\n",
       "      <td>0.15</td>\n",
       "      <td>NaN</td>\n",
       "      <td>2.0</td>\n",
       "      <td>\"12 Month Bank Verification, Tax Return\"</td>\n",
       "      <td>2025-03-12 08:58:35.472</td>\n",
       "      <td>435446.52</td>\n",
       "      <td>False</td>\n",
       "      <td>31.88</td>\n",
       "      <td>Limited Liability Company (LLC)</td>\n",
       "      <td>4.0</td>\n",
       "      <td>0.0</td>\n",
       "      <td>0.4483</td>\n",
       "      <td>0.333</td>\n",
       "      <td>0.0000</td>\n",
       "      <td>674.0</td>\n",
       "      <td>36.0</td>\n",
       "      <td>MEDIUM-HIGH RISK</td>\n",
       "      <td>11.0</td>\n",
       "      <td>13.0</td>\n",
       "      <td>28.0</td>\n",
       "      <td>640.0</td>\n",
       "      <td>672.0</td>\n",
       "      <td>64.0</td>\n",
       "      <td>2.0</td>\n",
       "      <td>34.08</td>\n",
       "      <td>1.0</td>\n",
       "      <td>6.1.2</td>\n",
       "      <td>1.0000</td>\n",
       "      <td>20.0</td>\n",
       "      <td>2025-03-12 08:58:57.000</td>\n",
       "      <td>0.0</td>\n",
       "      <td>NaN</td>\n",
       "      <td>Lending Tree</td>\n",
       "    </tr>\n",
       "    <tr>\n",
       "      <th>1</th>\n",
       "      <td>b19dd23b-38c5-41cd-b51a-796782894131</td>\n",
       "      <td>True</td>\n",
       "      <td>2025-03-11 15:13:39.670</td>\n",
       "      <td>New Deal</td>\n",
       "      <td>Core</td>\n",
       "      <td>False</td>\n",
       "      <td>new_sales</td>\n",
       "      <td>Funded</td>\n",
       "      <td>NaN</td>\n",
       "      <td>25000.0</td>\n",
       "      <td>6.0</td>\n",
       "      <td>1.38</td>\n",
       "      <td>0.15</td>\n",
       "      <td>25000.0</td>\n",
       "      <td>NaN</td>\n",
       "      <td>NaN</td>\n",
       "      <td>2025-03-18 17:44:26.207</td>\n",
       "      <td>47502.67</td>\n",
       "      <td>False</td>\n",
       "      <td>1.32</td>\n",
       "      <td>Limited Liability Company (LLC)</td>\n",
       "      <td>8.0</td>\n",
       "      <td>0.0</td>\n",
       "      <td>0.2994</td>\n",
       "      <td>0.333</td>\n",
       "      <td>0.0000</td>\n",
       "      <td>NaN</td>\n",
       "      <td>6.0</td>\n",
       "      <td>HIGH RISK</td>\n",
       "      <td>89.0</td>\n",
       "      <td>80.0</td>\n",
       "      <td>25.0</td>\n",
       "      <td>750.0</td>\n",
       "      <td>712.0</td>\n",
       "      <td>270.0</td>\n",
       "      <td>0.0</td>\n",
       "      <td>1.42</td>\n",
       "      <td>0.0</td>\n",
       "      <td>6.1.2</td>\n",
       "      <td>0.7753</td>\n",
       "      <td>5.0</td>\n",
       "      <td>2025-03-11 17:36:41.000</td>\n",
       "      <td>0.0</td>\n",
       "      <td>NaN</td>\n",
       "      <td>Lendio</td>\n",
       "    </tr>\n",
       "    <tr>\n",
       "      <th>2</th>\n",
       "      <td>a8e3a848-9a0d-4b75-ac1a-7d60610e7edf</td>\n",
       "      <td>False</td>\n",
       "      <td>2025-03-11 14:12:17.801</td>\n",
       "      <td>New Deal</td>\n",
       "      <td>Premium</td>\n",
       "      <td>False</td>\n",
       "      <td>new_sales</td>\n",
       "      <td>Closed Lost</td>\n",
       "      <td>Deal Lost</td>\n",
       "      <td>150000.0</td>\n",
       "      <td>10.0</td>\n",
       "      <td>1.29</td>\n",
       "      <td>0.15</td>\n",
       "      <td>NaN</td>\n",
       "      <td>NaN</td>\n",
       "      <td>NaN</td>\n",
       "      <td>2025-03-11 17:00:38.292</td>\n",
       "      <td>472645.69</td>\n",
       "      <td>False</td>\n",
       "      <td>12.16</td>\n",
       "      <td>Corporation</td>\n",
       "      <td>9.0</td>\n",
       "      <td>0.0</td>\n",
       "      <td>0.2197</td>\n",
       "      <td>0.333</td>\n",
       "      <td>0.0500</td>\n",
       "      <td>690.0</td>\n",
       "      <td>82.0</td>\n",
       "      <td>LOW-MEDIUM RISK</td>\n",
       "      <td>74.0</td>\n",
       "      <td>87.0</td>\n",
       "      <td>44.0</td>\n",
       "      <td>746.0</td>\n",
       "      <td>667.0</td>\n",
       "      <td>303.0</td>\n",
       "      <td>1.0</td>\n",
       "      <td>34.42</td>\n",
       "      <td>0.0</td>\n",
       "      <td>6.1.2</td>\n",
       "      <td>0.9766</td>\n",
       "      <td>19.0</td>\n",
       "      <td>2025-03-11 17:01:18.000</td>\n",
       "      <td>1.0</td>\n",
       "      <td>NaN</td>\n",
       "      <td>Riverpoint Capital</td>\n",
       "    </tr>\n",
       "    <tr>\n",
       "      <th>3</th>\n",
       "      <td>b9ce2b93-36d7-49d5-aa34-70862eca3165</td>\n",
       "      <td>True</td>\n",
       "      <td>2025-03-11 13:57:41.719</td>\n",
       "      <td>New Deal</td>\n",
       "      <td>Standard</td>\n",
       "      <td>False</td>\n",
       "      <td>new_sales</td>\n",
       "      <td>Funded</td>\n",
       "      <td>NaN</td>\n",
       "      <td>20000.0</td>\n",
       "      <td>7.0</td>\n",
       "      <td>1.34</td>\n",
       "      <td>0.15</td>\n",
       "      <td>20000.0</td>\n",
       "      <td>NaN</td>\n",
       "      <td>NaN</td>\n",
       "      <td>2025-03-11 16:50:47.060</td>\n",
       "      <td>35907.78</td>\n",
       "      <td>False</td>\n",
       "      <td>11.70</td>\n",
       "      <td>Limited Liability Company (LLC)</td>\n",
       "      <td>10.0</td>\n",
       "      <td>0.0</td>\n",
       "      <td>0.3562</td>\n",
       "      <td>0.333</td>\n",
       "      <td>0.0821</td>\n",
       "      <td>NaN</td>\n",
       "      <td>90.0</td>\n",
       "      <td>LOW RISK</td>\n",
       "      <td>47.0</td>\n",
       "      <td>13.0</td>\n",
       "      <td>30.0</td>\n",
       "      <td>644.0</td>\n",
       "      <td>596.0</td>\n",
       "      <td>903.0</td>\n",
       "      <td>0.0</td>\n",
       "      <td>11.25</td>\n",
       "      <td>0.0</td>\n",
       "      <td>6.1.2</td>\n",
       "      <td>0.8281</td>\n",
       "      <td>9.0</td>\n",
       "      <td>2025-03-11 16:51:08.000</td>\n",
       "      <td>1.0</td>\n",
       "      <td>NaN</td>\n",
       "      <td>Twin Fold Capital</td>\n",
       "    </tr>\n",
       "    <tr>\n",
       "      <th>4</th>\n",
       "      <td>0937ee3f-9cbc-4108-809f-ff224707594a</td>\n",
       "      <td>True</td>\n",
       "      <td>2025-03-11 15:06:22.889</td>\n",
       "      <td>New Deal</td>\n",
       "      <td>Standard</td>\n",
       "      <td>False</td>\n",
       "      <td>new_sales</td>\n",
       "      <td>Funded</td>\n",
       "      <td>NaN</td>\n",
       "      <td>7500.0</td>\n",
       "      <td>7.0</td>\n",
       "      <td>1.34</td>\n",
       "      <td>0.15</td>\n",
       "      <td>7500.0</td>\n",
       "      <td>1.0</td>\n",
       "      <td>\"Accounts Must Be Positive Before Funding\"</td>\n",
       "      <td>2025-03-11 17:24:01.407</td>\n",
       "      <td>13652.54</td>\n",
       "      <td>False</td>\n",
       "      <td>5.58</td>\n",
       "      <td>Limited Liability Company (LLC)</td>\n",
       "      <td>26.0</td>\n",
       "      <td>0.0</td>\n",
       "      <td>0.3045</td>\n",
       "      <td>0.333</td>\n",
       "      <td>0.1476</td>\n",
       "      <td>675.0</td>\n",
       "      <td>11.0</td>\n",
       "      <td>HIGH RISK</td>\n",
       "      <td>28.0</td>\n",
       "      <td>22.0</td>\n",
       "      <td>44.0</td>\n",
       "      <td>594.0</td>\n",
       "      <td>648.0</td>\n",
       "      <td>819.0</td>\n",
       "      <td>0.0</td>\n",
       "      <td>9.58</td>\n",
       "      <td>0.0</td>\n",
       "      <td>6.1.2</td>\n",
       "      <td>0.8805</td>\n",
       "      <td>13.0</td>\n",
       "      <td>2025-03-11 17:24:30.000</td>\n",
       "      <td>1.0</td>\n",
       "      <td>NaN</td>\n",
       "      <td>New York Tribeca Group LLC</td>\n",
       "    </tr>\n",
       "  </tbody>\n",
       "</table>\n",
       "</div>"
      ],
      "text/plain": [
       "                        SUBMISSION_UUID  CUSTOMER_SENSITIVITY_TARGET  \\\n",
       "0  5affeba1-c9d2-4c32-b515-b27c499c2e9f                        False   \n",
       "1  b19dd23b-38c5-41cd-b51a-796782894131                         True   \n",
       "2  a8e3a848-9a0d-4b75-ac1a-7d60610e7edf                        False   \n",
       "3  b9ce2b93-36d7-49d5-aa34-70862eca3165                         True   \n",
       "4  0937ee3f-9cbc-4108-809f-ff224707594a                         True   \n",
       "\n",
       "           SUBMISSION_DATE DEAL_TYPE   PROGRAM IS_PRIME_DEAL  \\\n",
       "0  2025-03-11 15:09:12.067  New Deal   Premium          True   \n",
       "1  2025-03-11 15:13:39.670  New Deal      Core         False   \n",
       "2  2025-03-11 14:12:17.801  New Deal   Premium         False   \n",
       "3  2025-03-11 13:57:41.719  New Deal  Standard         False   \n",
       "4  2025-03-11 15:06:22.889  New Deal  Standard         False   \n",
       "\n",
       "  SUBMISSION_CATEGORY   STAGE_NAME  SUB_STAGE  MAX_APPROVAL_ISSUED  \\\n",
       "0           new_sales  Closed Lost  Deal Lost             350000.0   \n",
       "1           new_sales       Funded        NaN              25000.0   \n",
       "2           new_sales  Closed Lost  Deal Lost             150000.0   \n",
       "3           new_sales       Funded        NaN              20000.0   \n",
       "4           new_sales       Funded        NaN               7500.0   \n",
       "\n",
       "   TERM_MAX_OFFER  BUY_RATE_MAX_OFFER  UPSELL_MAX_OFFER  \\\n",
       "0            18.0                1.33              0.15   \n",
       "1             6.0                1.38              0.15   \n",
       "2            10.0                1.29              0.15   \n",
       "3             7.0                1.34              0.15   \n",
       "4             7.0                1.34              0.15   \n",
       "\n",
       "   AMOUNT_ACCEPTED_OFFER  STIP_COUNT  \\\n",
       "0                    NaN         2.0   \n",
       "1                25000.0         NaN   \n",
       "2                    NaN         NaN   \n",
       "3                20000.0         NaN   \n",
       "4                 7500.0         1.0   \n",
       "\n",
       "                                 STIPULATIONS            DATE_APPROVED  \\\n",
       "0    \"12 Month Bank Verification, Tax Return\"  2025-03-12 08:58:35.472   \n",
       "1                                         NaN  2025-03-18 17:44:26.207   \n",
       "2                                         NaN  2025-03-11 17:00:38.292   \n",
       "3                                         NaN  2025-03-11 16:50:47.060   \n",
       "4  \"Accounts Must Be Positive Before Funding\"  2025-03-11 17:24:01.407   \n",
       "\n",
       "   AVERAGE_TRUE_REVENUE  IS_PREVIOUSLY_FUNDED_CUSTOMER  APBUS_YRS_IN_BUSINESS  \\\n",
       "0             435446.52                          False                  31.88   \n",
       "1              47502.67                          False                   1.32   \n",
       "2             472645.69                          False                  12.16   \n",
       "3              35907.78                          False                  11.70   \n",
       "4              13652.54                          False                   5.58   \n",
       "\n",
       "                 APBUS_ENTITY_TYPE  BSMET_DEPOSIT_COUNT_MIN  BSMET_NSFS_AVG  \\\n",
       "0  Limited Liability Company (LLC)                      4.0             0.0   \n",
       "1  Limited Liability Company (LLC)                      8.0             0.0   \n",
       "2                      Corporation                      9.0             0.0   \n",
       "3  Limited Liability Company (LLC)                     10.0             0.0   \n",
       "4  Limited Liability Company (LLC)                     26.0             0.0   \n",
       "\n",
       "   BSMET_REVENUE_VELOCITY  BSMET_NSFS_VELOCITY  \\\n",
       "0                  0.4483                0.333   \n",
       "1                  0.2994                0.333   \n",
       "2                  0.2197                0.333   \n",
       "3                  0.3562                0.333   \n",
       "4                  0.3045                0.333   \n",
       "\n",
       "   BSMUL_OTHER_POSITION_GROSS_DEPOSIT_DOLLARS  PNSCO_PAYNET_SCORE  \\\n",
       "0                                      0.0000               674.0   \n",
       "1                                      0.0000                 NaN   \n",
       "2                                      0.0500               690.0   \n",
       "3                                      0.0821                 NaN   \n",
       "4                                      0.1476               675.0   \n",
       "\n",
       "   EMSCO_INTELLISCORE EMSCO_INTELLISCORE_BUCKET  EMSCO_IP_SCORE  \\\n",
       "0                36.0          MEDIUM-HIGH RISK            11.0   \n",
       "1                 6.0                 HIGH RISK            89.0   \n",
       "2                82.0           LOW-MEDIUM RISK            74.0   \n",
       "3                90.0                  LOW RISK            47.0   \n",
       "4                11.0                 HIGH RISK            28.0   \n",
       "\n",
       "   EMSCO_FSR_SCORE  EMSCO_SBCS_V2_ACQ_SCORE  ENSCO_SCORE_FICO_MAX  \\\n",
       "0             13.0                     28.0                 640.0   \n",
       "1             80.0                     25.0                 750.0   \n",
       "2             87.0                     44.0                 746.0   \n",
       "3             13.0                     30.0                 644.0   \n",
       "4             22.0                     44.0                 594.0   \n",
       "\n",
       "   ENSCO_SCORE_VANTAGE_MAX  ENSCO_SCORE_BANKRUPTCY_MAX  \\\n",
       "0                    672.0                        64.0   \n",
       "1                    712.0                       270.0   \n",
       "2                    667.0                       303.0   \n",
       "3                    596.0                       903.0   \n",
       "4                    648.0                       819.0   \n",
       "\n",
       "   ENAGG_DELINQUENCIES_OVER_30CD_MAX  ENTRA_CRE_MAX_YEARS_SINCE_OPENED_MAX  \\\n",
       "0                                2.0                                 34.08   \n",
       "1                                0.0                                  1.42   \n",
       "2                                1.0                                 34.42   \n",
       "3                                0.0                                 11.25   \n",
       "4                                0.0                                  9.58   \n",
       "\n",
       "   ENTRA_CRE_DELINQ_CNT_30D_MAX FIRST_INFERENCE_MODEL_VERSION  \\\n",
       "0                           1.0                         6.1.2   \n",
       "1                           0.0                         6.1.2   \n",
       "2                           0.0                         6.1.2   \n",
       "3                           0.0                         6.1.2   \n",
       "4                           0.0                         6.1.2   \n",
       "\n",
       "   FIRST_INFERENCE_MODEL_PREDICTION  FIRST_INFERENCE_MODEL_RISK_SCORE  \\\n",
       "0                            1.0000                              20.0   \n",
       "1                            0.7753                               5.0   \n",
       "2                            0.9766                              19.0   \n",
       "3                            0.8281                               9.0   \n",
       "4                            0.8805                              13.0   \n",
       "\n",
       "            FIRST_DECISION  POSITIONS ISO_COMPETING_SUB  \\\n",
       "0  2025-03-12 08:58:57.000        0.0               NaN   \n",
       "1  2025-03-11 17:36:41.000        0.0               NaN   \n",
       "2  2025-03-11 17:01:18.000        1.0               NaN   \n",
       "3  2025-03-11 16:51:08.000        1.0               NaN   \n",
       "4  2025-03-11 17:24:30.000        1.0               NaN   \n",
       "\n",
       "           FIRST_PARTNER_NAME  \n",
       "0                Lending Tree  \n",
       "1                      Lendio  \n",
       "2          Riverpoint Capital  \n",
       "3           Twin Fold Capital  \n",
       "4  New York Tribeca Group LLC  "
      ]
     },
     "execution_count": 2,
     "metadata": {},
     "output_type": "execute_result"
    }
   ],
   "source": [
    "customer_df = pd.read_csv('/Users/alexlei/Documents/customer_sensitivity.csv')\n",
    "pd.set_option('display.max_columns', None)\n",
    "customer_df.head()"
   ]
  },
  {
   "cell_type": "code",
   "execution_count": 3,
   "id": "ef9360a4-64d9-4271-8c33-585b286a112c",
   "metadata": {
    "tags": []
   },
   "outputs": [
    {
     "data": {
      "text/plain": [
       "(243239, 45)"
      ]
     },
     "execution_count": 3,
     "metadata": {},
     "output_type": "execute_result"
    }
   ],
   "source": [
    "customer_df.shape"
   ]
  },
  {
   "cell_type": "code",
   "execution_count": 4,
   "id": "772ce75e-bf78-44fd-89b8-5ac11f5802a9",
   "metadata": {
    "tags": []
   },
   "outputs": [
    {
     "name": "stdout",
     "output_type": "stream",
     "text": [
      "<class 'pandas.core.frame.DataFrame'>\n",
      "RangeIndex: 243239 entries, 0 to 243238\n",
      "Data columns (total 45 columns):\n",
      " #   Column                                      Non-Null Count   Dtype  \n",
      "---  ------                                      --------------   -----  \n",
      " 0   SUBMISSION_UUID                             243239 non-null  object \n",
      " 1   CUSTOMER_SENSITIVITY_TARGET                 243239 non-null  bool   \n",
      " 2   SUBMISSION_DATE                             243239 non-null  object \n",
      " 3   DEAL_TYPE                                   243239 non-null  object \n",
      " 4   PROGRAM                                     243237 non-null  object \n",
      " 5   IS_PRIME_DEAL                               243237 non-null  object \n",
      " 6   SUBMISSION_CATEGORY                         243239 non-null  object \n",
      " 7   STAGE_NAME                                  243239 non-null  object \n",
      " 8   SUB_STAGE                                   223314 non-null  object \n",
      " 9   MAX_APPROVAL_ISSUED                         243237 non-null  float64\n",
      " 10  TERM_MAX_OFFER                              243233 non-null  float64\n",
      " 11  BUY_RATE_MAX_OFFER                          243233 non-null  float64\n",
      " 12  UPSELL_MAX_OFFER                            243233 non-null  float64\n",
      " 13  AMOUNT_ACCEPTED_OFFER                       36712 non-null   float64\n",
      " 14  STIP_COUNT                                  77501 non-null   float64\n",
      " 15  STIPULATIONS                                77501 non-null   object \n",
      " 16  DATE_APPROVED                               243237 non-null  object \n",
      " 17  AVERAGE_TRUE_REVENUE                        243233 non-null  float64\n",
      " 18  IS_PREVIOUSLY_FUNDED_CUSTOMER               243239 non-null  bool   \n",
      " 19  APBUS_YRS_IN_BUSINESS                       243067 non-null  float64\n",
      " 20  APBUS_ENTITY_TYPE                           242935 non-null  object \n",
      " 21  BSMET_DEPOSIT_COUNT_MIN                     242950 non-null  float64\n",
      " 22  BSMET_NSFS_AVG                              242950 non-null  float64\n",
      " 23  BSMET_REVENUE_VELOCITY                      242950 non-null  float64\n",
      " 24  BSMET_NSFS_VELOCITY                         242950 non-null  float64\n",
      " 25  BSMUL_OTHER_POSITION_GROSS_DEPOSIT_DOLLARS  243072 non-null  float64\n",
      " 26  PNSCO_PAYNET_SCORE                          140661 non-null  float64\n",
      " 27  EMSCO_INTELLISCORE                          232073 non-null  float64\n",
      " 28  EMSCO_INTELLISCORE_BUCKET                   239938 non-null  object \n",
      " 29  EMSCO_IP_SCORE                              232122 non-null  float64\n",
      " 30  EMSCO_FSR_SCORE                             232122 non-null  float64\n",
      " 31  EMSCO_SBCS_V2_ACQ_SCORE                     232077 non-null  float64\n",
      " 32  ENSCO_SCORE_FICO_MAX                        240163 non-null  float64\n",
      " 33  ENSCO_SCORE_VANTAGE_MAX                     240164 non-null  float64\n",
      " 34  ENSCO_SCORE_BANKRUPTCY_MAX                  240163 non-null  float64\n",
      " 35  ENAGG_DELINQUENCIES_OVER_30CD_MAX           239909 non-null  float64\n",
      " 36  ENTRA_CRE_MAX_YEARS_SINCE_OPENED_MAX        238964 non-null  float64\n",
      " 37  ENTRA_CRE_DELINQ_CNT_30D_MAX                237778 non-null  float64\n",
      " 38  FIRST_INFERENCE_MODEL_VERSION               238082 non-null  object \n",
      " 39  FIRST_INFERENCE_MODEL_PREDICTION            238082 non-null  float64\n",
      " 40  FIRST_INFERENCE_MODEL_RISK_SCORE            238082 non-null  float64\n",
      " 41  FIRST_DECISION                              206094 non-null  object \n",
      " 42  POSITIONS                                   206094 non-null  float64\n",
      " 43  ISO_COMPETING_SUB                           17247 non-null   object \n",
      " 44  FIRST_PARTNER_NAME                          206094 non-null  object \n",
      "dtypes: bool(2), float64(27), object(16)\n",
      "memory usage: 80.3+ MB\n"
     ]
    }
   ],
   "source": [
    "customer_df.info()"
   ]
  },
  {
   "cell_type": "code",
   "execution_count": 5,
   "id": "c6c950a3-54f1-46da-820a-5b11d0836ebb",
   "metadata": {
    "tags": []
   },
   "outputs": [
    {
     "data": {
      "text/plain": [
       "SUBMISSION_UUID                                    0\n",
       "CUSTOMER_SENSITIVITY_TARGET                        0\n",
       "SUBMISSION_DATE                                    0\n",
       "DEAL_TYPE                                          0\n",
       "PROGRAM                                            2\n",
       "IS_PRIME_DEAL                                      2\n",
       "SUBMISSION_CATEGORY                                0\n",
       "STAGE_NAME                                         0\n",
       "SUB_STAGE                                      19925\n",
       "MAX_APPROVAL_ISSUED                                2\n",
       "TERM_MAX_OFFER                                     6\n",
       "BUY_RATE_MAX_OFFER                                 6\n",
       "UPSELL_MAX_OFFER                                   6\n",
       "AMOUNT_ACCEPTED_OFFER                         206527\n",
       "STIP_COUNT                                    165738\n",
       "STIPULATIONS                                  165738\n",
       "DATE_APPROVED                                      2\n",
       "AVERAGE_TRUE_REVENUE                               6\n",
       "IS_PREVIOUSLY_FUNDED_CUSTOMER                      0\n",
       "APBUS_YRS_IN_BUSINESS                            172\n",
       "APBUS_ENTITY_TYPE                                304\n",
       "BSMET_DEPOSIT_COUNT_MIN                          289\n",
       "BSMET_NSFS_AVG                                   289\n",
       "BSMET_REVENUE_VELOCITY                           289\n",
       "BSMET_NSFS_VELOCITY                              289\n",
       "BSMUL_OTHER_POSITION_GROSS_DEPOSIT_DOLLARS       167\n",
       "PNSCO_PAYNET_SCORE                            102578\n",
       "EMSCO_INTELLISCORE                             11166\n",
       "EMSCO_INTELLISCORE_BUCKET                       3301\n",
       "EMSCO_IP_SCORE                                 11117\n",
       "EMSCO_FSR_SCORE                                11117\n",
       "EMSCO_SBCS_V2_ACQ_SCORE                        11162\n",
       "ENSCO_SCORE_FICO_MAX                            3076\n",
       "ENSCO_SCORE_VANTAGE_MAX                         3075\n",
       "ENSCO_SCORE_BANKRUPTCY_MAX                      3076\n",
       "ENAGG_DELINQUENCIES_OVER_30CD_MAX               3330\n",
       "ENTRA_CRE_MAX_YEARS_SINCE_OPENED_MAX            4275\n",
       "ENTRA_CRE_DELINQ_CNT_30D_MAX                    5461\n",
       "FIRST_INFERENCE_MODEL_VERSION                   5157\n",
       "FIRST_INFERENCE_MODEL_PREDICTION                5157\n",
       "FIRST_INFERENCE_MODEL_RISK_SCORE                5157\n",
       "FIRST_DECISION                                 37145\n",
       "POSITIONS                                      37145\n",
       "ISO_COMPETING_SUB                             225992\n",
       "FIRST_PARTNER_NAME                             37145\n",
       "dtype: int64"
      ]
     },
     "execution_count": 5,
     "metadata": {},
     "output_type": "execute_result"
    }
   ],
   "source": [
    "customer_df.isnull().sum()"
   ]
  },
  {
   "cell_type": "markdown",
   "id": "bf779d55-0e64-4778-89f6-1f380937df97",
   "metadata": {
    "jp-MarkdownHeadingCollapsed": true,
    "tags": []
   },
   "source": [
    "### Given the background of an applicant (their risk score, revenue, years in business, etc) and the offer we provided them (approval amount, term, and factor rate), what are the chances that they would get funded?"
   ]
  },
  {
   "cell_type": "markdown",
   "id": "79111bb8-a98a-40b4-a96a-06d988dfb37f",
   "metadata": {},
   "source": [
    "#### Q: for True in 'IS_PREVIOUSLY_FUNDED_CUSTOMER', do they contain currently PIF customers? Or do TRUE values only mean they had been PIF and came back for more?\n",
    "A: PIF submissions - ignored/assumed they are PIF"
   ]
  },
  {
   "cell_type": "markdown",
   "id": "ed73f34a-7dee-47ce-9e90-2f5408f143e5",
   "metadata": {},
   "source": [
    "#### Q: 'POSITIONS' column - existing position or the position we are offering?\n",
    "A: currently existing positions\n",
    "#### Q: Do they include all positions or excluding LOC, CCSplit, Monthly, Biweekly?\n",
    "A: daily, weekly pos only"
   ]
  },
  {
   "cell_type": "code",
   "execution_count": null,
   "id": "cbb7ed2e-58b2-4d3e-9321-ac176ccc68cc",
   "metadata": {
    "tags": []
   },
   "outputs": [],
   "source": [
    "customer_df['POSITIONS'].unique()"
   ]
  },
  {
   "cell_type": "code",
   "execution_count": null,
   "id": "1cc19fcf-5468-4b17-b08e-b5d4c7085c88",
   "metadata": {
    "tags": []
   },
   "outputs": [],
   "source": [
    "customer_df['FIRST_DECISION'].unique() # timestamp"
   ]
  },
  {
   "cell_type": "code",
   "execution_count": null,
   "id": "6f598b67-31e8-4875-8d47-604f23170448",
   "metadata": {
    "tags": []
   },
   "outputs": [],
   "source": [
    "customer_df['SUBMISSION_DATE'].unique()"
   ]
  },
  {
   "cell_type": "markdown",
   "id": "6486b642-6881-485b-898d-1db061c92f34",
   "metadata": {},
   "source": [
    "#### Suggestion: difference between 'SUBMISSION_DATE' & 'FIRST_DECISION' could help determine the time it took from receiving application to sending out offer. Assuming the longer it sits in the queue, the less likely customer will take our offer."
   ]
  },
  {
   "cell_type": "code",
   "execution_count": null,
   "id": "c139bf16-3367-4332-9129-842f11e06356",
   "metadata": {
    "tags": []
   },
   "outputs": [],
   "source": [
    "filtered_df = customer_df[customer_df['POSITIONS'] >= 6.0]\n",
    "filtered_df.head()"
   ]
  },
  {
   "cell_type": "code",
   "execution_count": null,
   "id": "bc1550b4-5ee7-4847-92a8-604a30c554cb",
   "metadata": {
    "tags": []
   },
   "outputs": [],
   "source": [
    "program_by_pos = customer_df.groupby(['POSITIONS', 'PROGRAM']).size().unstack()\n",
    "program_by_pos"
   ]
  },
  {
   "cell_type": "code",
   "execution_count": null,
   "id": "14cb1777-4e19-4198-ab90-00d14cddd2b6",
   "metadata": {
    "tags": []
   },
   "outputs": [],
   "source": [
    "program_pos_stage = customer_df.groupby(['POSITIONS', 'PROGRAM', 'STAGE_NAME']).size().unstack()\n",
    "program_pos_stage"
   ]
  },
  {
   "cell_type": "markdown",
   "id": "a30f3fbd-bfd9-440f-be74-bcf99846b17a",
   "metadata": {},
   "source": [
    "#### assuming customers with lower FICO are more likely to accept our offer"
   ]
  },
  {
   "cell_type": "code",
   "execution_count": null,
   "id": "7e2deb7b-e351-4210-95ae-50081a7900c6",
   "metadata": {
    "tags": []
   },
   "outputs": [],
   "source": [
    "customer_df['ENSCO_SCORE_FICO_MAX']"
   ]
  },
  {
   "cell_type": "markdown",
   "id": "821e1df5-ba1c-4379-bb68-addcdf150eb0",
   "metadata": {},
   "source": [
    "2 data:\n",
    "customer features (FICO, TIB) vs. our features (program, dollar approval, scores)\n",
    "term max offer, max term issue, buyrate\n",
    "intended model to work - portfolio stratefgy team can tweak buyrate, factor rate, approval term, $, to see the probabilty of conversion"
   ]
  },
  {
   "cell_type": "code",
   "execution_count": null,
   "id": "b1e8c24d-cae6-4733-8ce3-4878b92462b7",
   "metadata": {
    "tags": []
   },
   "outputs": [],
   "source": [
    "customer_df['FIRST_INFERENCE_MODEL_PREDICTION']"
   ]
  },
  {
   "cell_type": "code",
   "execution_count": null,
   "id": "a65babb5-dfd3-4981-af50-dd2635c79e9e",
   "metadata": {
    "tags": []
   },
   "outputs": [],
   "source": [
    "customer_df['FIRST_INFERENCE_MODEL_RISK_SCORE']"
   ]
  },
  {
   "cell_type": "markdown",
   "id": "6c8a3758-8f92-4486-aca4-5d1506128198",
   "metadata": {},
   "source": [
    "# Data Cleaning"
   ]
  },
  {
   "cell_type": "markdown",
   "id": "0a7d304e-37b2-45c6-98c6-eca886a8d40f",
   "metadata": {},
   "source": [
    "### Date_approved is last approval, First_decision is first prior to all competing subs\n",
    "\n",
    "### Finding time difference between submission and first decision"
   ]
  },
  {
   "cell_type": "code",
   "execution_count": 6,
   "id": "183e7e76-b098-4740-be72-7f92bb60ad72",
   "metadata": {
    "tags": []
   },
   "outputs": [],
   "source": [
    "customer_df[['SUBMISSION_DATE', 'DATE_APPROVED', 'FIRST_DECISION']] = customer_df[['SUBMISSION_DATE', 'DATE_APPROVED', 'FIRST_DECISION']].apply(pd.to_datetime, errors='coerce')"
   ]
  },
  {
   "cell_type": "code",
   "execution_count": 7,
   "id": "06c82199-7e71-418a-a6f4-1019ad8cad44",
   "metadata": {
    "tags": []
   },
   "outputs": [],
   "source": [
    "def calculate_time_difference(df, start_time_col, end_time_col):\n",
    "    df['time_difference'] = df[end_time_col] - df[start_time_col]\n",
    "    df['time_difference_minutes'] = df['time_difference'].dt.total_seconds() // 60\n",
    "    df['hour_difference'] = df['time_difference_minutes'] // 60\n",
    "    df['minute_diference'] = df['time_difference_minutes'] % 60\n",
    "    return df"
   ]
  },
  {
   "cell_type": "code",
   "execution_count": 8,
   "id": "5db8e83f-d99f-4b1f-b19e-42b986560fe4",
   "metadata": {
    "tags": []
   },
   "outputs": [],
   "source": [
    "customer_df = calculate_time_difference(customer_df, 'SUBMISSION_DATE', 'FIRST_DECISION')"
   ]
  },
  {
   "cell_type": "markdown",
   "id": "fa60e147-824e-465c-ae0e-44a61a63c5f6",
   "metadata": {},
   "source": [
    "### Funded and Closed Lost Stages in Binary"
   ]
  },
  {
   "cell_type": "code",
   "execution_count": 9,
   "id": "39a018e1-8f25-43e2-8d81-e76c9b8cbeee",
   "metadata": {
    "tags": []
   },
   "outputs": [
    {
     "name": "stdout",
     "output_type": "stream",
     "text": [
      "STAGE_NAME\n",
      "0    223311\n",
      "1     19928\n",
      "Name: count, dtype: int64\n"
     ]
    }
   ],
   "source": [
    "customer_df['STAGE_NAME'] = customer_df['STAGE_NAME'].map({'Funded': 1, 'Closed Lost': 0})\n",
    "print(customer_df['STAGE_NAME'].value_counts())"
   ]
  },
  {
   "cell_type": "markdown",
   "id": "eb423792-c416-4e72-b764-a960b07a929a",
   "metadata": {
    "tags": []
   },
   "source": [
    "### Although 'INSUFFICIENT DATA TO SCORE' + 'NaN' + 'RECENT BANKRUPTCY ON FILE' is <5% of total values from 'EMSCO_INTELLISCORE_BUCKET' column,\n",
    "### there are still relevant information within those rows. Converting these values to NONE"
   ]
  },
  {
   "cell_type": "code",
   "execution_count": 10,
   "id": "88731e9b-fe68-4cb9-80c1-171263bb42ce",
   "metadata": {
    "tags": []
   },
   "outputs": [
    {
     "name": "stdout",
     "output_type": "stream",
     "text": [
      "EMSCO_INTELLISCORE_BUCKET\n",
      "HIGH RISK           114552\n",
      "MEDIUM-HIGH RISK     56488\n",
      "MEDIUM RISK          35884\n",
      "LOW-MEDIUM RISK      16142\n",
      "NaN                  11166\n",
      "LOW RISK              9007\n",
      "Name: count, dtype: int64\n"
     ]
    }
   ],
   "source": [
    "customer_df['EMSCO_INTELLISCORE_BUCKET'] = customer_df['EMSCO_INTELLISCORE_BUCKET'].replace(['INSUFFICIENT DATA TO SCORE', 'NaN', 'RECENT BANKRUPTCY ON FILE'], np.nan)\n",
    "print(customer_df['EMSCO_INTELLISCORE_BUCKET'].value_counts(dropna=False))"
   ]
  },
  {
   "cell_type": "markdown",
   "id": "b81af205-4c4c-477b-981e-de3fa4771e2b",
   "metadata": {},
   "source": [
    "### Safe to drop nan value rows (only 2 rows)"
   ]
  },
  {
   "cell_type": "code",
   "execution_count": 11,
   "id": "0ae77125-47aa-42a9-acbf-d8ce818e1e04",
   "metadata": {
    "tags": []
   },
   "outputs": [
    {
     "data": {
      "text/html": [
       "<div>\n",
       "<style scoped>\n",
       "    .dataframe tbody tr th:only-of-type {\n",
       "        vertical-align: middle;\n",
       "    }\n",
       "\n",
       "    .dataframe tbody tr th {\n",
       "        vertical-align: top;\n",
       "    }\n",
       "\n",
       "    .dataframe thead th {\n",
       "        text-align: right;\n",
       "    }\n",
       "</style>\n",
       "<table border=\"1\" class=\"dataframe\">\n",
       "  <thead>\n",
       "    <tr style=\"text-align: right;\">\n",
       "      <th></th>\n",
       "      <th>SUBMISSION_UUID</th>\n",
       "      <th>CUSTOMER_SENSITIVITY_TARGET</th>\n",
       "      <th>SUBMISSION_DATE</th>\n",
       "      <th>DEAL_TYPE</th>\n",
       "      <th>PROGRAM</th>\n",
       "      <th>IS_PRIME_DEAL</th>\n",
       "      <th>SUBMISSION_CATEGORY</th>\n",
       "      <th>STAGE_NAME</th>\n",
       "      <th>SUB_STAGE</th>\n",
       "      <th>MAX_APPROVAL_ISSUED</th>\n",
       "      <th>TERM_MAX_OFFER</th>\n",
       "      <th>BUY_RATE_MAX_OFFER</th>\n",
       "      <th>UPSELL_MAX_OFFER</th>\n",
       "      <th>AMOUNT_ACCEPTED_OFFER</th>\n",
       "      <th>STIP_COUNT</th>\n",
       "      <th>STIPULATIONS</th>\n",
       "      <th>DATE_APPROVED</th>\n",
       "      <th>AVERAGE_TRUE_REVENUE</th>\n",
       "      <th>IS_PREVIOUSLY_FUNDED_CUSTOMER</th>\n",
       "      <th>APBUS_YRS_IN_BUSINESS</th>\n",
       "      <th>APBUS_ENTITY_TYPE</th>\n",
       "      <th>BSMET_DEPOSIT_COUNT_MIN</th>\n",
       "      <th>BSMET_NSFS_AVG</th>\n",
       "      <th>BSMET_REVENUE_VELOCITY</th>\n",
       "      <th>BSMET_NSFS_VELOCITY</th>\n",
       "      <th>BSMUL_OTHER_POSITION_GROSS_DEPOSIT_DOLLARS</th>\n",
       "      <th>PNSCO_PAYNET_SCORE</th>\n",
       "      <th>EMSCO_INTELLISCORE</th>\n",
       "      <th>EMSCO_INTELLISCORE_BUCKET</th>\n",
       "      <th>EMSCO_IP_SCORE</th>\n",
       "      <th>EMSCO_FSR_SCORE</th>\n",
       "      <th>EMSCO_SBCS_V2_ACQ_SCORE</th>\n",
       "      <th>ENSCO_SCORE_FICO_MAX</th>\n",
       "      <th>ENSCO_SCORE_VANTAGE_MAX</th>\n",
       "      <th>ENSCO_SCORE_BANKRUPTCY_MAX</th>\n",
       "      <th>ENAGG_DELINQUENCIES_OVER_30CD_MAX</th>\n",
       "      <th>ENTRA_CRE_MAX_YEARS_SINCE_OPENED_MAX</th>\n",
       "      <th>ENTRA_CRE_DELINQ_CNT_30D_MAX</th>\n",
       "      <th>FIRST_INFERENCE_MODEL_VERSION</th>\n",
       "      <th>FIRST_INFERENCE_MODEL_PREDICTION</th>\n",
       "      <th>FIRST_INFERENCE_MODEL_RISK_SCORE</th>\n",
       "      <th>FIRST_DECISION</th>\n",
       "      <th>POSITIONS</th>\n",
       "      <th>ISO_COMPETING_SUB</th>\n",
       "      <th>FIRST_PARTNER_NAME</th>\n",
       "      <th>time_difference</th>\n",
       "      <th>time_difference_minutes</th>\n",
       "      <th>hour_difference</th>\n",
       "      <th>minute_diference</th>\n",
       "    </tr>\n",
       "  </thead>\n",
       "  <tbody>\n",
       "    <tr>\n",
       "      <th>89835</th>\n",
       "      <td>70144a5f-1e1f-4e2f-9450-4aa9eb40d16a</td>\n",
       "      <td>False</td>\n",
       "      <td>2024-06-04 11:53:04.603</td>\n",
       "      <td>New Deal</td>\n",
       "      <td>NaN</td>\n",
       "      <td>NaN</td>\n",
       "      <td>new_sales</td>\n",
       "      <td>0</td>\n",
       "      <td>Deal Lost</td>\n",
       "      <td>NaN</td>\n",
       "      <td>NaN</td>\n",
       "      <td>NaN</td>\n",
       "      <td>NaN</td>\n",
       "      <td>NaN</td>\n",
       "      <td>NaN</td>\n",
       "      <td>NaN</td>\n",
       "      <td>NaT</td>\n",
       "      <td>NaN</td>\n",
       "      <td>False</td>\n",
       "      <td>5.01</td>\n",
       "      <td>Limited Liability Company (LLC)</td>\n",
       "      <td>4.0</td>\n",
       "      <td>0.0</td>\n",
       "      <td>0.0301</td>\n",
       "      <td>0.333</td>\n",
       "      <td>0.0000</td>\n",
       "      <td>700.0</td>\n",
       "      <td>67.0</td>\n",
       "      <td>LOW-MEDIUM RISK</td>\n",
       "      <td>47.0</td>\n",
       "      <td>79.0</td>\n",
       "      <td>77.0</td>\n",
       "      <td>758.0</td>\n",
       "      <td>774.0</td>\n",
       "      <td>163.0</td>\n",
       "      <td>0.0</td>\n",
       "      <td>11.17</td>\n",
       "      <td>0.0</td>\n",
       "      <td>6.1.2</td>\n",
       "      <td>0.9520</td>\n",
       "      <td>18.0</td>\n",
       "      <td>2024-06-04 12:42:44</td>\n",
       "      <td>0.0</td>\n",
       "      <td>NaN</td>\n",
       "      <td>Cardiff</td>\n",
       "      <td>0 days 00:49:39.397000</td>\n",
       "      <td>49.0</td>\n",
       "      <td>0.0</td>\n",
       "      <td>49.0</td>\n",
       "    </tr>\n",
       "    <tr>\n",
       "      <th>145507</th>\n",
       "      <td>346d93b3-962b-42e3-89ae-52706a9b47cd</td>\n",
       "      <td>False</td>\n",
       "      <td>2024-04-22 09:16:00.585</td>\n",
       "      <td>New Deal</td>\n",
       "      <td>NaN</td>\n",
       "      <td>NaN</td>\n",
       "      <td>pif_new_iso</td>\n",
       "      <td>0</td>\n",
       "      <td>Deal Lost</td>\n",
       "      <td>NaN</td>\n",
       "      <td>NaN</td>\n",
       "      <td>NaN</td>\n",
       "      <td>NaN</td>\n",
       "      <td>NaN</td>\n",
       "      <td>NaN</td>\n",
       "      <td>NaN</td>\n",
       "      <td>NaT</td>\n",
       "      <td>NaN</td>\n",
       "      <td>True</td>\n",
       "      <td>10.15</td>\n",
       "      <td>Limited Liability Company (LLC)</td>\n",
       "      <td>35.0</td>\n",
       "      <td>0.0</td>\n",
       "      <td>0.3139</td>\n",
       "      <td>0.333</td>\n",
       "      <td>0.4308</td>\n",
       "      <td>667.0</td>\n",
       "      <td>13.0</td>\n",
       "      <td>HIGH RISK</td>\n",
       "      <td>55.0</td>\n",
       "      <td>28.0</td>\n",
       "      <td>39.0</td>\n",
       "      <td>NaN</td>\n",
       "      <td>NaN</td>\n",
       "      <td>NaN</td>\n",
       "      <td>NaN</td>\n",
       "      <td>NaN</td>\n",
       "      <td>NaN</td>\n",
       "      <td>6.1.1</td>\n",
       "      <td>0.8514</td>\n",
       "      <td>11.0</td>\n",
       "      <td>2024-04-22 10:14:25</td>\n",
       "      <td>0.0</td>\n",
       "      <td>NaN</td>\n",
       "      <td>SmartCapFunding</td>\n",
       "      <td>0 days 00:58:24.415000</td>\n",
       "      <td>58.0</td>\n",
       "      <td>0.0</td>\n",
       "      <td>58.0</td>\n",
       "    </tr>\n",
       "  </tbody>\n",
       "</table>\n",
       "</div>"
      ],
      "text/plain": [
       "                             SUBMISSION_UUID  CUSTOMER_SENSITIVITY_TARGET  \\\n",
       "89835   70144a5f-1e1f-4e2f-9450-4aa9eb40d16a                        False   \n",
       "145507  346d93b3-962b-42e3-89ae-52706a9b47cd                        False   \n",
       "\n",
       "               SUBMISSION_DATE DEAL_TYPE PROGRAM IS_PRIME_DEAL  \\\n",
       "89835  2024-06-04 11:53:04.603  New Deal     NaN           NaN   \n",
       "145507 2024-04-22 09:16:00.585  New Deal     NaN           NaN   \n",
       "\n",
       "       SUBMISSION_CATEGORY  STAGE_NAME  SUB_STAGE  MAX_APPROVAL_ISSUED  \\\n",
       "89835            new_sales           0  Deal Lost                  NaN   \n",
       "145507         pif_new_iso           0  Deal Lost                  NaN   \n",
       "\n",
       "        TERM_MAX_OFFER  BUY_RATE_MAX_OFFER  UPSELL_MAX_OFFER  \\\n",
       "89835              NaN                 NaN               NaN   \n",
       "145507             NaN                 NaN               NaN   \n",
       "\n",
       "        AMOUNT_ACCEPTED_OFFER  STIP_COUNT STIPULATIONS DATE_APPROVED  \\\n",
       "89835                     NaN         NaN          NaN           NaT   \n",
       "145507                    NaN         NaN          NaN           NaT   \n",
       "\n",
       "        AVERAGE_TRUE_REVENUE  IS_PREVIOUSLY_FUNDED_CUSTOMER  \\\n",
       "89835                    NaN                          False   \n",
       "145507                   NaN                           True   \n",
       "\n",
       "        APBUS_YRS_IN_BUSINESS                APBUS_ENTITY_TYPE  \\\n",
       "89835                    5.01  Limited Liability Company (LLC)   \n",
       "145507                  10.15  Limited Liability Company (LLC)   \n",
       "\n",
       "        BSMET_DEPOSIT_COUNT_MIN  BSMET_NSFS_AVG  BSMET_REVENUE_VELOCITY  \\\n",
       "89835                       4.0             0.0                  0.0301   \n",
       "145507                     35.0             0.0                  0.3139   \n",
       "\n",
       "        BSMET_NSFS_VELOCITY  BSMUL_OTHER_POSITION_GROSS_DEPOSIT_DOLLARS  \\\n",
       "89835                 0.333                                      0.0000   \n",
       "145507                0.333                                      0.4308   \n",
       "\n",
       "        PNSCO_PAYNET_SCORE  EMSCO_INTELLISCORE EMSCO_INTELLISCORE_BUCKET  \\\n",
       "89835                700.0                67.0           LOW-MEDIUM RISK   \n",
       "145507               667.0                13.0                 HIGH RISK   \n",
       "\n",
       "        EMSCO_IP_SCORE  EMSCO_FSR_SCORE  EMSCO_SBCS_V2_ACQ_SCORE  \\\n",
       "89835             47.0             79.0                     77.0   \n",
       "145507            55.0             28.0                     39.0   \n",
       "\n",
       "        ENSCO_SCORE_FICO_MAX  ENSCO_SCORE_VANTAGE_MAX  \\\n",
       "89835                  758.0                    774.0   \n",
       "145507                   NaN                      NaN   \n",
       "\n",
       "        ENSCO_SCORE_BANKRUPTCY_MAX  ENAGG_DELINQUENCIES_OVER_30CD_MAX  \\\n",
       "89835                        163.0                                0.0   \n",
       "145507                         NaN                                NaN   \n",
       "\n",
       "        ENTRA_CRE_MAX_YEARS_SINCE_OPENED_MAX  ENTRA_CRE_DELINQ_CNT_30D_MAX  \\\n",
       "89835                                  11.17                           0.0   \n",
       "145507                                   NaN                           NaN   \n",
       "\n",
       "       FIRST_INFERENCE_MODEL_VERSION  FIRST_INFERENCE_MODEL_PREDICTION  \\\n",
       "89835                          6.1.2                            0.9520   \n",
       "145507                         6.1.1                            0.8514   \n",
       "\n",
       "        FIRST_INFERENCE_MODEL_RISK_SCORE      FIRST_DECISION  POSITIONS  \\\n",
       "89835                               18.0 2024-06-04 12:42:44        0.0   \n",
       "145507                              11.0 2024-04-22 10:14:25        0.0   \n",
       "\n",
       "       ISO_COMPETING_SUB FIRST_PARTNER_NAME        time_difference  \\\n",
       "89835                NaN            Cardiff 0 days 00:49:39.397000   \n",
       "145507               NaN    SmartCapFunding 0 days 00:58:24.415000   \n",
       "\n",
       "        time_difference_minutes  hour_difference  minute_diference  \n",
       "89835                      49.0              0.0              49.0  \n",
       "145507                     58.0              0.0              58.0  "
      ]
     },
     "execution_count": 11,
     "metadata": {},
     "output_type": "execute_result"
    }
   ],
   "source": [
    "customer_df[customer_df['IS_PRIME_DEAL'].isnull()]"
   ]
  },
  {
   "cell_type": "code",
   "execution_count": 12,
   "id": "dffc2987-5625-4153-a1f6-cd3c3e6a67e4",
   "metadata": {
    "tags": []
   },
   "outputs": [],
   "source": [
    "customer_df = customer_df.dropna(subset=['IS_PRIME_DEAL'])"
   ]
  },
  {
   "cell_type": "markdown",
   "id": "d0ad4f65-66b4-499d-a669-c5047b435e67",
   "metadata": {},
   "source": [
    "### change ISO_COMPETING_SUB, customer_df['ISO_COMPETING_SUB']PROGRAM and EMSCO_INTELLISCORE_BUCKET to numeric values"
   ]
  },
  {
   "cell_type": "code",
   "execution_count": 13,
   "id": "9ab7d91b-5d45-4541-b426-bf869b56a2b9",
   "metadata": {},
   "outputs": [
    {
     "data": {
      "text/plain": [
       "array([nan, 'Competing Sub - Complete'], dtype=object)"
      ]
     },
     "execution_count": 13,
     "metadata": {},
     "output_type": "execute_result"
    }
   ],
   "source": [
    "customer_df['ISO_COMPETING_SUB'].unique()"
   ]
  },
  {
   "cell_type": "code",
   "execution_count": 14,
   "id": "bb153bf1-877d-4bf5-98a8-cd1edb82171c",
   "metadata": {},
   "outputs": [
    {
     "name": "stdout",
     "output_type": "stream",
     "text": [
      "ISO_COMPETING_SUB\n",
      "0.0    225990\n",
      "1.0     17247\n",
      "Name: count, dtype: int64\n"
     ]
    }
   ],
   "source": [
    "customer_df['ISO_COMPETING_SUB'] = customer_df['ISO_COMPETING_SUB'].replace('Competing Sub - Complete', 1)\n",
    "customer_df['ISO_COMPETING_SUB'] = customer_df['ISO_COMPETING_SUB'].fillna(0)\n",
    "print(customer_df['ISO_COMPETING_SUB'].value_counts(dropna=False))"
   ]
  },
  {
   "cell_type": "code",
   "execution_count": 15,
   "id": "755d2a7e-57e9-427f-9f62-4a39816c9b6e",
   "metadata": {
    "tags": []
   },
   "outputs": [
    {
     "data": {
      "text/plain": [
       "array(['Premium', 'Core', 'Standard', 'Low Risk', 'Starter'], dtype=object)"
      ]
     },
     "execution_count": 15,
     "metadata": {},
     "output_type": "execute_result"
    }
   ],
   "source": [
    "customer_df['PROGRAM'].unique()"
   ]
  },
  {
   "cell_type": "code",
   "execution_count": 16,
   "id": "a7d9c576-b84d-42f6-bf21-b795ed59f249",
   "metadata": {
    "tags": []
   },
   "outputs": [
    {
     "name": "stdout",
     "output_type": "stream",
     "text": [
      "PROGRAM\n",
      "3    75642\n",
      "4    67254\n",
      "5    46061\n",
      "2    42217\n",
      "1    12063\n",
      "Name: count, dtype: int64\n"
     ]
    }
   ],
   "source": [
    "program_mapping = {\n",
    "    'Starter': 1,\n",
    "    'Core': 2,\n",
    "    'Standard': 3,\n",
    "    'Low Risk': 4,\n",
    "    'Premium': 5\n",
    "}\n",
    "\n",
    "customer_df['PROGRAM'] = customer_df['PROGRAM'].map(program_mapping)\n",
    "print(customer_df['PROGRAM'].value_counts(dropna=False))"
   ]
  },
  {
   "cell_type": "code",
   "execution_count": 17,
   "id": "e769ea89-0576-4bbb-be50-111576f363ff",
   "metadata": {
    "tags": []
   },
   "outputs": [
    {
     "data": {
      "text/plain": [
       "array(['MEDIUM-HIGH RISK', 'HIGH RISK', 'LOW-MEDIUM RISK', 'LOW RISK',\n",
       "       'MEDIUM RISK', nan], dtype=object)"
      ]
     },
     "execution_count": 17,
     "metadata": {},
     "output_type": "execute_result"
    }
   ],
   "source": [
    "customer_df['EMSCO_INTELLISCORE_BUCKET'].unique()"
   ]
  },
  {
   "cell_type": "code",
   "execution_count": 18,
   "id": "027fb467-d5b0-4457-b1cc-2f9269066ae6",
   "metadata": {
    "tags": []
   },
   "outputs": [
    {
     "name": "stdout",
     "output_type": "stream",
     "text": [
      "EMSCO_INTELLISCORE_BUCKET\n",
      "1.0    114551\n",
      "2.0     56488\n",
      "3.0     35884\n",
      "4.0     16141\n",
      "NaN     11166\n",
      "5.0      9007\n",
      "Name: count, dtype: int64\n"
     ]
    }
   ],
   "source": [
    "risk_score_mapping = {\n",
    "    'HIGH RISK': 1,\n",
    "    'MEDIUM-HIGH RISK': 2,\n",
    "    'MEDIUM RISK': 3,\n",
    "    'LOW-MEDIUM RISK': 4,\n",
    "    'LOW RISK': 5\n",
    "}\n",
    "\n",
    "customer_df['EMSCO_INTELLISCORE_BUCKET'] = customer_df['EMSCO_INTELLISCORE_BUCKET'].map(risk_score_mapping)\n",
    "print(customer_df['EMSCO_INTELLISCORE_BUCKET'].value_counts(dropna=False))"
   ]
  },
  {
   "cell_type": "code",
   "execution_count": 19,
   "id": "eb02c8fa-23ab-448f-a66a-15da635fba86",
   "metadata": {},
   "outputs": [],
   "source": [
    "### Noticed CUSTOMER_SENSITIVITY_TARGET and STAGE_NAME have the same boolean values\n",
    "### safe to assume good to drop CUSTOMER_SENSITIVITY_TARGET column"
   ]
  },
  {
   "cell_type": "code",
   "execution_count": 20,
   "id": "7de3e9cb-3a5b-4f87-9977-81375650d82a",
   "metadata": {
    "tags": []
   },
   "outputs": [
    {
     "data": {
      "text/plain": [
       "CUSTOMER_SENSITIVITY_TARGET\n",
       "False    223309\n",
       "True      19928\n",
       "Name: count, dtype: int64"
      ]
     },
     "execution_count": 20,
     "metadata": {},
     "output_type": "execute_result"
    }
   ],
   "source": [
    "customer_df['CUSTOMER_SENSITIVITY_TARGET'].value_counts()"
   ]
  },
  {
   "cell_type": "code",
   "execution_count": 21,
   "id": "0455059c-63b6-4c78-a928-c76a7fcf9f19",
   "metadata": {
    "tags": []
   },
   "outputs": [
    {
     "data": {
      "text/plain": [
       "STAGE_NAME\n",
       "0    223309\n",
       "1     19928\n",
       "Name: count, dtype: int64"
      ]
     },
     "execution_count": 21,
     "metadata": {},
     "output_type": "execute_result"
    }
   ],
   "source": [
    "customer_df['STAGE_NAME'].value_counts()"
   ]
  },
  {
   "cell_type": "markdown",
   "id": "80a004fd-a89f-44a0-b977-1ff14b826c44",
   "metadata": {
    "tags": []
   },
   "source": [
    "# MinMaxScaler"
   ]
  },
  {
   "cell_type": "code",
   "execution_count": 22,
   "id": "51f43339-03cb-4061-8e58-44233b821fae",
   "metadata": {},
   "outputs": [],
   "source": [
    "from sklearn.preprocessing import MinMaxScaler"
   ]
  },
  {
   "cell_type": "markdown",
   "id": "56c7a26b-228d-45a2-98a1-b037154510b7",
   "metadata": {},
   "source": [
    "### Scale FICO scores"
   ]
  },
  {
   "cell_type": "code",
   "execution_count": 23,
   "id": "7d8ea5be-d6ef-4164-848e-d28ce3a3f2a6",
   "metadata": {
    "tags": []
   },
   "outputs": [],
   "source": [
    "fico_min = customer_df['ENSCO_SCORE_FICO_MAX'].min()\n",
    "fico_max = customer_df['ENSCO_SCORE_FICO_MAX'].max()\n",
    "\n",
    "# fill NaN values with mean FICO\n",
    "customer_df['ENSCO_SCORE_FICO_MAX'] = customer_df['ENSCO_SCORE_FICO_MAX'].fillna(customer_df['ENSCO_SCORE_FICO_MAX'].mean())"
   ]
  },
  {
   "cell_type": "code",
   "execution_count": 24,
   "id": "4bbb0757-dec2-4ba4-ade0-ff2816570b2f",
   "metadata": {
    "tags": []
   },
   "outputs": [],
   "source": [
    "fico = customer_df['ENSCO_SCORE_FICO_MAX'].values.reshape(-1, 1)\n",
    "\n",
    "scaler = MinMaxScaler(feature_range=(0, 1))\n",
    "scaler.fit(np.array([[fico_min], [fico_max]]))\n",
    "\n",
    "customer_df['fico_score_scaled'] = scaler.transform(fico)"
   ]
  },
  {
   "cell_type": "markdown",
   "id": "33720cab-c0de-48da-a36b-bd5da910a3cb",
   "metadata": {},
   "source": [
    "### Scale Vantage Scores"
   ]
  },
  {
   "cell_type": "code",
   "execution_count": 25,
   "id": "d106498c-008f-424e-a5ad-3e7f79cbcd3c",
   "metadata": {
    "tags": []
   },
   "outputs": [],
   "source": [
    "vantage_min = customer_df['ENSCO_SCORE_VANTAGE_MAX'].min()\n",
    "vantage_max = customer_df['ENSCO_SCORE_VANTAGE_MAX'].max()\n",
    "\n",
    "# fill NaN values with mean Vantage\n",
    "customer_df['ENSCO_SCORE_VANTAGE_MAX'] = customer_df['ENSCO_SCORE_VANTAGE_MAX'].fillna(customer_df['ENSCO_SCORE_VANTAGE_MAX'].mean())"
   ]
  },
  {
   "cell_type": "code",
   "execution_count": 26,
   "id": "d2213556-35fe-403e-aa84-0f625a43c470",
   "metadata": {
    "tags": []
   },
   "outputs": [],
   "source": [
    "vantage = customer_df['ENSCO_SCORE_VANTAGE_MAX'].values.reshape(-1, 1)\n",
    "\n",
    "scaler = MinMaxScaler(feature_range=(0, 1))\n",
    "scaler.fit(np.array([[vantage_min], [vantage_max]]))\n",
    "\n",
    "customer_df['vantage_score_scaled'] = scaler.transform(vantage)"
   ]
  },
  {
   "cell_type": "markdown",
   "id": "380459ee-a6ff-47ee-9edb-222e2ae4445a",
   "metadata": {},
   "source": [
    "### Scale Paynet Score"
   ]
  },
  {
   "cell_type": "code",
   "execution_count": 27,
   "id": "5cb83179-ea4c-41bb-902b-25e9b32d3543",
   "metadata": {
    "tags": []
   },
   "outputs": [],
   "source": [
    "paynet_min = customer_df['PNSCO_PAYNET_SCORE'].min()\n",
    "paynet_max = customer_df['PNSCO_PAYNET_SCORE'].max()\n",
    "\n",
    "# fill NaN values with mean Paynet\n",
    "customer_df['PNSCO_PAYNET_SCORE'] = customer_df['PNSCO_PAYNET_SCORE'].fillna(customer_df['PNSCO_PAYNET_SCORE'].mean())"
   ]
  },
  {
   "cell_type": "code",
   "execution_count": 28,
   "id": "f178ab92-635a-4998-8c60-7f0c9351c39f",
   "metadata": {
    "tags": []
   },
   "outputs": [],
   "source": [
    "paynet = customer_df['PNSCO_PAYNET_SCORE'].values.reshape(-1, 1)\n",
    "\n",
    "scaler = MinMaxScaler(feature_range=(0, 1))\n",
    "scaler.fit(np.array([[paynet_min], [paynet_max]]))\n",
    "\n",
    "customer_df['paynet_score_scaled'] = scaler.transform(paynet)"
   ]
  },
  {
   "cell_type": "markdown",
   "id": "2684c444-815b-42d6-96b0-22a123c772f9",
   "metadata": {},
   "source": [
    "### Scale BK Score"
   ]
  },
  {
   "cell_type": "code",
   "execution_count": 29,
   "id": "90209b36-6736-4aff-91f5-80c822730911",
   "metadata": {
    "tags": []
   },
   "outputs": [],
   "source": [
    "BK_min = customer_df['ENSCO_SCORE_BANKRUPTCY_MAX'].min()\n",
    "BK_max = customer_df['ENSCO_SCORE_BANKRUPTCY_MAX'].max()\n",
    "\n",
    "# fill NaN values with mean BK score\n",
    "customer_df['ENSCO_SCORE_BANKRUPTCY_MAX'] = customer_df['ENSCO_SCORE_BANKRUPTCY_MAX'].fillna(customer_df['ENSCO_SCORE_BANKRUPTCY_MAX'].mean())"
   ]
  },
  {
   "cell_type": "code",
   "execution_count": 30,
   "id": "9449ee03-dd0e-4d93-825b-c8cbbc3117c1",
   "metadata": {
    "tags": []
   },
   "outputs": [],
   "source": [
    "BK_score = customer_df['ENSCO_SCORE_BANKRUPTCY_MAX'].values.reshape(-1, 1)\n",
    "\n",
    "scaler = MinMaxScaler(feature_range=(0, 1))\n",
    "scaler.fit(np.array([[BK_min], [BK_max]]))\n",
    "\n",
    "customer_df['BK_score_scaled'] = scaler.transform(BK_score)"
   ]
  },
  {
   "cell_type": "markdown",
   "id": "0d1c87f7-a468-4bfe-be6f-a5ac0a383f67",
   "metadata": {},
   "source": [
    "# Fill all NaN values with 0"
   ]
  },
  {
   "cell_type": "code",
   "execution_count": 31,
   "id": "2f9f624c-f853-45d0-885c-cde0ae57436b",
   "metadata": {},
   "outputs": [],
   "source": [
    "# fillna with 0 \n",
    "\n",
    "# AMOUNT_ACCEPTED_OFFER -> those who didn't accept an offer means they weren't funded\n",
    "# STIP_COUNT, STIPULATIONS -> 0 means no stip was added\n",
    "# EMSCO_INTELLISCORE, EMSCO_IP_SCORE, EMSCO_FSR_SCORE, EMSCO_SBCS_V2_ACQ_SCORE - range from 1-100, 0 means no score outputs\n",
    "# ENAGG_DELINQUENCIES_OVER_30CD_MAX, ENTRA_CRE_MAX_YEARS_SINCE_OPENED_MAX, ENTRA_CRE_DELINQ_CNT_30D_MAX -> their min() was 0.0\n",
    "# POSITIONS -> fill with 0 for now, will need to sample some of these deals to figure out why Position was NaN"
   ]
  },
  {
   "cell_type": "code",
   "execution_count": 32,
   "id": "940725f6-23f3-4cf5-b2b2-57d688ba52fc",
   "metadata": {
    "tags": []
   },
   "outputs": [
    {
     "data": {
      "text/plain": [
       "SUBMISSION_UUID                               0\n",
       "CUSTOMER_SENSITIVITY_TARGET                   0\n",
       "SUBMISSION_DATE                               0\n",
       "DEAL_TYPE                                     0\n",
       "PROGRAM                                       0\n",
       "IS_PRIME_DEAL                                 0\n",
       "SUBMISSION_CATEGORY                           0\n",
       "STAGE_NAME                                    0\n",
       "SUB_STAGE                                     0\n",
       "MAX_APPROVAL_ISSUED                           0\n",
       "TERM_MAX_OFFER                                0\n",
       "BUY_RATE_MAX_OFFER                            0\n",
       "UPSELL_MAX_OFFER                              0\n",
       "AMOUNT_ACCEPTED_OFFER                         0\n",
       "STIP_COUNT                                    0\n",
       "STIPULATIONS                                  0\n",
       "DATE_APPROVED                                 0\n",
       "AVERAGE_TRUE_REVENUE                          0\n",
       "IS_PREVIOUSLY_FUNDED_CUSTOMER                 0\n",
       "APBUS_YRS_IN_BUSINESS                         0\n",
       "APBUS_ENTITY_TYPE                             0\n",
       "BSMET_DEPOSIT_COUNT_MIN                       0\n",
       "BSMET_NSFS_AVG                                0\n",
       "BSMET_REVENUE_VELOCITY                        0\n",
       "BSMET_NSFS_VELOCITY                           0\n",
       "BSMUL_OTHER_POSITION_GROSS_DEPOSIT_DOLLARS    0\n",
       "PNSCO_PAYNET_SCORE                            0\n",
       "EMSCO_INTELLISCORE                            0\n",
       "EMSCO_INTELLISCORE_BUCKET                     0\n",
       "EMSCO_IP_SCORE                                0\n",
       "EMSCO_FSR_SCORE                               0\n",
       "EMSCO_SBCS_V2_ACQ_SCORE                       0\n",
       "ENSCO_SCORE_FICO_MAX                          0\n",
       "ENSCO_SCORE_VANTAGE_MAX                       0\n",
       "ENSCO_SCORE_BANKRUPTCY_MAX                    0\n",
       "ENAGG_DELINQUENCIES_OVER_30CD_MAX             0\n",
       "ENTRA_CRE_MAX_YEARS_SINCE_OPENED_MAX          0\n",
       "ENTRA_CRE_DELINQ_CNT_30D_MAX                  0\n",
       "FIRST_INFERENCE_MODEL_VERSION                 0\n",
       "FIRST_INFERENCE_MODEL_PREDICTION              0\n",
       "FIRST_INFERENCE_MODEL_RISK_SCORE              0\n",
       "FIRST_DECISION                                0\n",
       "POSITIONS                                     0\n",
       "ISO_COMPETING_SUB                             0\n",
       "FIRST_PARTNER_NAME                            0\n",
       "time_difference                               0\n",
       "time_difference_minutes                       0\n",
       "hour_difference                               0\n",
       "minute_diference                              0\n",
       "fico_score_scaled                             0\n",
       "vantage_score_scaled                          0\n",
       "paynet_score_scaled                           0\n",
       "BK_score_scaled                               0\n",
       "dtype: int64"
      ]
     },
     "execution_count": 32,
     "metadata": {},
     "output_type": "execute_result"
    }
   ],
   "source": [
    "customer_df = customer_df.fillna(0)\n",
    "customer_df.isnull().sum()"
   ]
  },
  {
   "cell_type": "markdown",
   "id": "d934f001-f22c-42eb-9203-802a0ea435c3",
   "metadata": {
    "tags": []
   },
   "source": [
    "# drop irrelevant columns"
   ]
  },
  {
   "cell_type": "code",
   "execution_count": 33,
   "id": "2fcdd61e-ed9a-4ba7-8805-605dc761f9a8",
   "metadata": {
    "tags": []
   },
   "outputs": [
    {
     "data": {
      "text/html": [
       "<div>\n",
       "<style scoped>\n",
       "    .dataframe tbody tr th:only-of-type {\n",
       "        vertical-align: middle;\n",
       "    }\n",
       "\n",
       "    .dataframe tbody tr th {\n",
       "        vertical-align: top;\n",
       "    }\n",
       "\n",
       "    .dataframe thead th {\n",
       "        text-align: right;\n",
       "    }\n",
       "</style>\n",
       "<table border=\"1\" class=\"dataframe\">\n",
       "  <thead>\n",
       "    <tr style=\"text-align: right;\">\n",
       "      <th></th>\n",
       "      <th>PROGRAM</th>\n",
       "      <th>IS_PRIME_DEAL</th>\n",
       "      <th>STAGE_NAME</th>\n",
       "      <th>MAX_APPROVAL_ISSUED</th>\n",
       "      <th>TERM_MAX_OFFER</th>\n",
       "      <th>BUY_RATE_MAX_OFFER</th>\n",
       "      <th>UPSELL_MAX_OFFER</th>\n",
       "      <th>AMOUNT_ACCEPTED_OFFER</th>\n",
       "      <th>STIP_COUNT</th>\n",
       "      <th>AVERAGE_TRUE_REVENUE</th>\n",
       "      <th>APBUS_YRS_IN_BUSINESS</th>\n",
       "      <th>BSMET_DEPOSIT_COUNT_MIN</th>\n",
       "      <th>BSMET_NSFS_AVG</th>\n",
       "      <th>BSMET_REVENUE_VELOCITY</th>\n",
       "      <th>BSMET_NSFS_VELOCITY</th>\n",
       "      <th>BSMUL_OTHER_POSITION_GROSS_DEPOSIT_DOLLARS</th>\n",
       "      <th>EMSCO_INTELLISCORE</th>\n",
       "      <th>EMSCO_INTELLISCORE_BUCKET</th>\n",
       "      <th>EMSCO_IP_SCORE</th>\n",
       "      <th>EMSCO_FSR_SCORE</th>\n",
       "      <th>EMSCO_SBCS_V2_ACQ_SCORE</th>\n",
       "      <th>ENAGG_DELINQUENCIES_OVER_30CD_MAX</th>\n",
       "      <th>ENTRA_CRE_MAX_YEARS_SINCE_OPENED_MAX</th>\n",
       "      <th>ENTRA_CRE_DELINQ_CNT_30D_MAX</th>\n",
       "      <th>FIRST_INFERENCE_MODEL_PREDICTION</th>\n",
       "      <th>FIRST_INFERENCE_MODEL_RISK_SCORE</th>\n",
       "      <th>POSITIONS</th>\n",
       "      <th>ISO_COMPETING_SUB</th>\n",
       "      <th>time_difference_minutes</th>\n",
       "      <th>fico_score_scaled</th>\n",
       "      <th>vantage_score_scaled</th>\n",
       "      <th>paynet_score_scaled</th>\n",
       "      <th>BK_score_scaled</th>\n",
       "    </tr>\n",
       "  </thead>\n",
       "  <tbody>\n",
       "    <tr>\n",
       "      <th>0</th>\n",
       "      <td>5</td>\n",
       "      <td>True</td>\n",
       "      <td>0</td>\n",
       "      <td>350000.0</td>\n",
       "      <td>18.0</td>\n",
       "      <td>1.33</td>\n",
       "      <td>0.15</td>\n",
       "      <td>0.0</td>\n",
       "      <td>2.0</td>\n",
       "      <td>435446.52</td>\n",
       "      <td>31.88</td>\n",
       "      <td>4.0</td>\n",
       "      <td>0.0</td>\n",
       "      <td>0.4483</td>\n",
       "      <td>0.333</td>\n",
       "      <td>0.0000</td>\n",
       "      <td>36.0</td>\n",
       "      <td>2.0</td>\n",
       "      <td>11.0</td>\n",
       "      <td>13.0</td>\n",
       "      <td>28.0</td>\n",
       "      <td>2.0</td>\n",
       "      <td>34.08</td>\n",
       "      <td>1.0</td>\n",
       "      <td>1.0000</td>\n",
       "      <td>20.0</td>\n",
       "      <td>0.0</td>\n",
       "      <td>0.0</td>\n",
       "      <td>1069.0</td>\n",
       "      <td>0.502463</td>\n",
       "      <td>0.621277</td>\n",
       "      <td>0.600806</td>\n",
       "      <td>0.045032</td>\n",
       "    </tr>\n",
       "    <tr>\n",
       "      <th>1</th>\n",
       "      <td>2</td>\n",
       "      <td>False</td>\n",
       "      <td>1</td>\n",
       "      <td>25000.0</td>\n",
       "      <td>6.0</td>\n",
       "      <td>1.38</td>\n",
       "      <td>0.15</td>\n",
       "      <td>25000.0</td>\n",
       "      <td>0.0</td>\n",
       "      <td>47502.67</td>\n",
       "      <td>1.32</td>\n",
       "      <td>8.0</td>\n",
       "      <td>0.0</td>\n",
       "      <td>0.2994</td>\n",
       "      <td>0.333</td>\n",
       "      <td>0.0000</td>\n",
       "      <td>6.0</td>\n",
       "      <td>1.0</td>\n",
       "      <td>89.0</td>\n",
       "      <td>80.0</td>\n",
       "      <td>25.0</td>\n",
       "      <td>0.0</td>\n",
       "      <td>1.42</td>\n",
       "      <td>0.0</td>\n",
       "      <td>0.7753</td>\n",
       "      <td>5.0</td>\n",
       "      <td>0.0</td>\n",
       "      <td>0.0</td>\n",
       "      <td>143.0</td>\n",
       "      <td>0.773399</td>\n",
       "      <td>0.706383</td>\n",
       "      <td>0.576492</td>\n",
       "      <td>0.192280</td>\n",
       "    </tr>\n",
       "    <tr>\n",
       "      <th>2</th>\n",
       "      <td>5</td>\n",
       "      <td>False</td>\n",
       "      <td>0</td>\n",
       "      <td>150000.0</td>\n",
       "      <td>10.0</td>\n",
       "      <td>1.29</td>\n",
       "      <td>0.15</td>\n",
       "      <td>0.0</td>\n",
       "      <td>0.0</td>\n",
       "      <td>472645.69</td>\n",
       "      <td>12.16</td>\n",
       "      <td>9.0</td>\n",
       "      <td>0.0</td>\n",
       "      <td>0.2197</td>\n",
       "      <td>0.333</td>\n",
       "      <td>0.0500</td>\n",
       "      <td>82.0</td>\n",
       "      <td>4.0</td>\n",
       "      <td>74.0</td>\n",
       "      <td>87.0</td>\n",
       "      <td>44.0</td>\n",
       "      <td>1.0</td>\n",
       "      <td>34.42</td>\n",
       "      <td>0.0</td>\n",
       "      <td>0.9766</td>\n",
       "      <td>19.0</td>\n",
       "      <td>1.0</td>\n",
       "      <td>0.0</td>\n",
       "      <td>169.0</td>\n",
       "      <td>0.763547</td>\n",
       "      <td>0.610638</td>\n",
       "      <td>0.665323</td>\n",
       "      <td>0.215868</td>\n",
       "    </tr>\n",
       "    <tr>\n",
       "      <th>3</th>\n",
       "      <td>3</td>\n",
       "      <td>False</td>\n",
       "      <td>1</td>\n",
       "      <td>20000.0</td>\n",
       "      <td>7.0</td>\n",
       "      <td>1.34</td>\n",
       "      <td>0.15</td>\n",
       "      <td>20000.0</td>\n",
       "      <td>0.0</td>\n",
       "      <td>35907.78</td>\n",
       "      <td>11.70</td>\n",
       "      <td>10.0</td>\n",
       "      <td>0.0</td>\n",
       "      <td>0.3562</td>\n",
       "      <td>0.333</td>\n",
       "      <td>0.0821</td>\n",
       "      <td>90.0</td>\n",
       "      <td>5.0</td>\n",
       "      <td>47.0</td>\n",
       "      <td>13.0</td>\n",
       "      <td>30.0</td>\n",
       "      <td>0.0</td>\n",
       "      <td>11.25</td>\n",
       "      <td>0.0</td>\n",
       "      <td>0.8281</td>\n",
       "      <td>9.0</td>\n",
       "      <td>1.0</td>\n",
       "      <td>0.0</td>\n",
       "      <td>173.0</td>\n",
       "      <td>0.512315</td>\n",
       "      <td>0.459574</td>\n",
       "      <td>0.576492</td>\n",
       "      <td>0.644746</td>\n",
       "    </tr>\n",
       "    <tr>\n",
       "      <th>4</th>\n",
       "      <td>3</td>\n",
       "      <td>False</td>\n",
       "      <td>1</td>\n",
       "      <td>7500.0</td>\n",
       "      <td>7.0</td>\n",
       "      <td>1.34</td>\n",
       "      <td>0.15</td>\n",
       "      <td>7500.0</td>\n",
       "      <td>1.0</td>\n",
       "      <td>13652.54</td>\n",
       "      <td>5.58</td>\n",
       "      <td>26.0</td>\n",
       "      <td>0.0</td>\n",
       "      <td>0.3045</td>\n",
       "      <td>0.333</td>\n",
       "      <td>0.1476</td>\n",
       "      <td>11.0</td>\n",
       "      <td>1.0</td>\n",
       "      <td>28.0</td>\n",
       "      <td>22.0</td>\n",
       "      <td>44.0</td>\n",
       "      <td>0.0</td>\n",
       "      <td>9.58</td>\n",
       "      <td>0.0</td>\n",
       "      <td>0.8805</td>\n",
       "      <td>13.0</td>\n",
       "      <td>1.0</td>\n",
       "      <td>0.0</td>\n",
       "      <td>138.0</td>\n",
       "      <td>0.389163</td>\n",
       "      <td>0.570213</td>\n",
       "      <td>0.604839</td>\n",
       "      <td>0.584703</td>\n",
       "    </tr>\n",
       "  </tbody>\n",
       "</table>\n",
       "</div>"
      ],
      "text/plain": [
       "   PROGRAM  IS_PRIME_DEAL  STAGE_NAME  MAX_APPROVAL_ISSUED  TERM_MAX_OFFER  \\\n",
       "0        5           True           0             350000.0            18.0   \n",
       "1        2          False           1              25000.0             6.0   \n",
       "2        5          False           0             150000.0            10.0   \n",
       "3        3          False           1              20000.0             7.0   \n",
       "4        3          False           1               7500.0             7.0   \n",
       "\n",
       "   BUY_RATE_MAX_OFFER  UPSELL_MAX_OFFER  AMOUNT_ACCEPTED_OFFER  STIP_COUNT  \\\n",
       "0                1.33              0.15                    0.0         2.0   \n",
       "1                1.38              0.15                25000.0         0.0   \n",
       "2                1.29              0.15                    0.0         0.0   \n",
       "3                1.34              0.15                20000.0         0.0   \n",
       "4                1.34              0.15                 7500.0         1.0   \n",
       "\n",
       "   AVERAGE_TRUE_REVENUE  APBUS_YRS_IN_BUSINESS  BSMET_DEPOSIT_COUNT_MIN  \\\n",
       "0             435446.52                  31.88                      4.0   \n",
       "1              47502.67                   1.32                      8.0   \n",
       "2             472645.69                  12.16                      9.0   \n",
       "3              35907.78                  11.70                     10.0   \n",
       "4              13652.54                   5.58                     26.0   \n",
       "\n",
       "   BSMET_NSFS_AVG  BSMET_REVENUE_VELOCITY  BSMET_NSFS_VELOCITY  \\\n",
       "0             0.0                  0.4483                0.333   \n",
       "1             0.0                  0.2994                0.333   \n",
       "2             0.0                  0.2197                0.333   \n",
       "3             0.0                  0.3562                0.333   \n",
       "4             0.0                  0.3045                0.333   \n",
       "\n",
       "   BSMUL_OTHER_POSITION_GROSS_DEPOSIT_DOLLARS  EMSCO_INTELLISCORE  \\\n",
       "0                                      0.0000                36.0   \n",
       "1                                      0.0000                 6.0   \n",
       "2                                      0.0500                82.0   \n",
       "3                                      0.0821                90.0   \n",
       "4                                      0.1476                11.0   \n",
       "\n",
       "   EMSCO_INTELLISCORE_BUCKET  EMSCO_IP_SCORE  EMSCO_FSR_SCORE  \\\n",
       "0                        2.0            11.0             13.0   \n",
       "1                        1.0            89.0             80.0   \n",
       "2                        4.0            74.0             87.0   \n",
       "3                        5.0            47.0             13.0   \n",
       "4                        1.0            28.0             22.0   \n",
       "\n",
       "   EMSCO_SBCS_V2_ACQ_SCORE  ENAGG_DELINQUENCIES_OVER_30CD_MAX  \\\n",
       "0                     28.0                                2.0   \n",
       "1                     25.0                                0.0   \n",
       "2                     44.0                                1.0   \n",
       "3                     30.0                                0.0   \n",
       "4                     44.0                                0.0   \n",
       "\n",
       "   ENTRA_CRE_MAX_YEARS_SINCE_OPENED_MAX  ENTRA_CRE_DELINQ_CNT_30D_MAX  \\\n",
       "0                                 34.08                           1.0   \n",
       "1                                  1.42                           0.0   \n",
       "2                                 34.42                           0.0   \n",
       "3                                 11.25                           0.0   \n",
       "4                                  9.58                           0.0   \n",
       "\n",
       "   FIRST_INFERENCE_MODEL_PREDICTION  FIRST_INFERENCE_MODEL_RISK_SCORE  \\\n",
       "0                            1.0000                              20.0   \n",
       "1                            0.7753                               5.0   \n",
       "2                            0.9766                              19.0   \n",
       "3                            0.8281                               9.0   \n",
       "4                            0.8805                              13.0   \n",
       "\n",
       "   POSITIONS  ISO_COMPETING_SUB  time_difference_minutes  fico_score_scaled  \\\n",
       "0        0.0                0.0                   1069.0           0.502463   \n",
       "1        0.0                0.0                    143.0           0.773399   \n",
       "2        1.0                0.0                    169.0           0.763547   \n",
       "3        1.0                0.0                    173.0           0.512315   \n",
       "4        1.0                0.0                    138.0           0.389163   \n",
       "\n",
       "   vantage_score_scaled  paynet_score_scaled  BK_score_scaled  \n",
       "0              0.621277             0.600806         0.045032  \n",
       "1              0.706383             0.576492         0.192280  \n",
       "2              0.610638             0.665323         0.215868  \n",
       "3              0.459574             0.576492         0.644746  \n",
       "4              0.570213             0.604839         0.584703  "
      ]
     },
     "execution_count": 33,
     "metadata": {},
     "output_type": "execute_result"
    }
   ],
   "source": [
    "customer_df = customer_df.drop(['SUBMISSION_UUID', 'CUSTOMER_SENSITIVITY_TARGET', 'SUBMISSION_DATE', 'DEAL_TYPE', 'SUBMISSION_CATEGORY', 'SUB_STAGE', 'STIPULATIONS', 'DATE_APPROVED', 'IS_PREVIOUSLY_FUNDED_CUSTOMER',\n",
    "                'APBUS_ENTITY_TYPE', 'FIRST_DECISION', 'time_difference', 'hour_difference', 'minute_diference', 'FIRST_PARTNER_NAME', 'FIRST_INFERENCE_MODEL_VERSION', 'ENSCO_SCORE_FICO_MAX',\n",
    "                'ENSCO_SCORE_VANTAGE_MAX', 'PNSCO_PAYNET_SCORE', 'ENSCO_SCORE_BANKRUPTCY_MAX'], axis=1)\n",
    "customer_df.head()"
   ]
  },
  {
   "cell_type": "markdown",
   "id": "86b3128d-9c34-4e1d-823a-1dbc3284b53f",
   "metadata": {
    "tags": []
   },
   "source": [
    "# Heatmap for correlations"
   ]
  },
  {
   "cell_type": "code",
   "execution_count": 37,
   "id": "03b9838c-71a9-4c61-989c-0f614d697c0c",
   "metadata": {
    "tags": []
   },
   "outputs": [],
   "source": [
    "corr_target = customer_df.corr()['STAGE_NAME'].sort_values(ascending=False)\n",
    "top_features = corr_target[1:11].index # top 10 features"
   ]
  },
  {
   "cell_type": "code",
   "execution_count": 38,
   "id": "5ddafd41-15a9-4ab8-97df-aa8b274ecb6c",
   "metadata": {
    "tags": []
   },
   "outputs": [
    {
     "data": {
      "text/plain": [
       "STAGE_NAME                                    1.000000\n",
       "AMOUNT_ACCEPTED_OFFER                         0.403617\n",
       "BK_score_scaled                               0.111971\n",
       "BSMUL_OTHER_POSITION_GROSS_DEPOSIT_DOLLARS    0.101487\n",
       "POSITIONS                                     0.079962\n",
       "ENAGG_DELINQUENCIES_OVER_30CD_MAX             0.071649\n",
       "ENTRA_CRE_DELINQ_CNT_30D_MAX                  0.055142\n",
       "BSMET_NSFS_AVG                                0.046948\n",
       "UPSELL_MAX_OFFER                              0.043813\n",
       "STIP_COUNT                                    0.025574\n",
       "IS_PRIME_DEAL                                 0.017744\n",
       "time_difference_minutes                       0.012298\n",
       "BSMET_NSFS_VELOCITY                           0.009393\n",
       "BUY_RATE_MAX_OFFER                            0.001830\n",
       "BSMET_DEPOSIT_COUNT_MIN                      -0.002964\n",
       "APBUS_YRS_IN_BUSINESS                        -0.005240\n",
       "TERM_MAX_OFFER                               -0.005572\n",
       "PROGRAM                                      -0.009297\n",
       "BSMET_REVENUE_VELOCITY                       -0.012406\n",
       "paynet_score_scaled                          -0.023879\n",
       "ISO_COMPETING_SUB                            -0.024823\n",
       "EMSCO_INTELLISCORE_BUCKET                    -0.027866\n",
       "EMSCO_INTELLISCORE                           -0.029408\n",
       "EMSCO_IP_SCORE                               -0.030227\n",
       "EMSCO_FSR_SCORE                              -0.033727\n",
       "AVERAGE_TRUE_REVENUE                         -0.035992\n",
       "EMSCO_SBCS_V2_ACQ_SCORE                      -0.039492\n",
       "ENTRA_CRE_MAX_YEARS_SINCE_OPENED_MAX         -0.042942\n",
       "FIRST_INFERENCE_MODEL_PREDICTION             -0.055637\n",
       "MAX_APPROVAL_ISSUED                          -0.056981\n",
       "FIRST_INFERENCE_MODEL_RISK_SCORE             -0.091754\n",
       "vantage_score_scaled                         -0.134274\n",
       "fico_score_scaled                            -0.141144\n",
       "Name: STAGE_NAME, dtype: float64"
      ]
     },
     "execution_count": 38,
     "metadata": {},
     "output_type": "execute_result"
    }
   ],
   "source": [
    "corr_target"
   ]
  },
  {
   "cell_type": "code",
   "execution_count": 39,
   "id": "293ff482-8500-4ad6-bf14-058ef8b7653f",
   "metadata": {
    "tags": []
   },
   "outputs": [
    {
     "data": {
      "text/plain": [
       "Index(['AMOUNT_ACCEPTED_OFFER', 'BK_score_scaled',\n",
       "       'BSMUL_OTHER_POSITION_GROSS_DEPOSIT_DOLLARS', 'POSITIONS',\n",
       "       'ENAGG_DELINQUENCIES_OVER_30CD_MAX', 'ENTRA_CRE_DELINQ_CNT_30D_MAX',\n",
       "       'BSMET_NSFS_AVG', 'UPSELL_MAX_OFFER', 'STIP_COUNT', 'IS_PRIME_DEAL'],\n",
       "      dtype='object')"
      ]
     },
     "execution_count": 39,
     "metadata": {},
     "output_type": "execute_result"
    }
   ],
   "source": [
    "top_features"
   ]
  },
  {
   "cell_type": "code",
   "execution_count": 40,
   "id": "20b18a11-6284-4f99-afad-42c19280beff",
   "metadata": {
    "tags": []
   },
   "outputs": [
    {
     "data": {
      "image/png": "[encoded data removed]",
      "text/plain": [
       "<Figure size 2000x1200 with 2 Axes>"
      ]
     },
     "metadata": {},
     "output_type": "display_data"
    }
   ],
   "source": [
    "# sns.heatmap(customer_df.corr(), annot=True, cmap='coolwarm')\n",
    "\n",
    "plt.figure(figsize=(20,12))\n",
    "sns.heatmap(customer_df[top_features].corr(), annot=True, cmap='coolwarm')\n",
    "plt.title(\"Top 10 Features Correlations\")\n",
    "plt.show()"
   ]
  },
  {
   "cell_type": "markdown",
   "id": "6e0fcf6d-20a6-4e3a-a366-c5a5ed7bf428",
   "metadata": {
    "jp-MarkdownHeadingCollapsed": true,
    "tags": []
   },
   "source": [
    "# RandomForest to find predictive signals:"
   ]
  },
  {
   "cell_type": "code",
   "execution_count": null,
   "id": "dd15ce47-859d-4ea1-9b01-bfc9f14dd3ec",
   "metadata": {
    "tags": []
   },
   "outputs": [],
   "source": [
    "from sklearn.ensemble import RandomForestClassifier"
   ]
  },
  {
   "cell_type": "code",
   "execution_count": null,
   "id": "b009bfdc-9c9b-47f0-b870-381878766235",
   "metadata": {
    "tags": []
   },
   "outputs": [],
   "source": [
    "X = customer_df.drop('STAGE_NAME', axis=1).select_dtypes(include=[float, int])\n",
    "y = customer_df['STAGE_NAME']\n",
    "\n",
    "model = RandomForestClassifier()\n",
    "model.fit(X, y)"
   ]
  },
  {
   "cell_type": "code",
   "execution_count": null,
   "id": "7668373d-e319-46c9-a317-63411d699b84",
   "metadata": {
    "tags": []
   },
   "outputs": [],
   "source": [
    "importances = pd.Series(model.feature_importances_, index=X.columns)\n",
    "importances.sort_values(ascending=False).plot(kind='barh', figsize=(10,6))\n",
    "plt.title(\"Feature Importance\")\n",
    "plt.show()"
   ]
  },
  {
   "cell_type": "code",
   "execution_count": null,
   "id": "094354cb-e20a-4b24-94b7-f5d2fa641361",
   "metadata": {
    "tags": []
   },
   "outputs": [],
   "source": [
    "from sklearn.model_selection import train_test_split"
   ]
  },
  {
   "cell_type": "code",
   "execution_count": null,
   "id": "95391750-3381-4c44-adcd-52518afb39be",
   "metadata": {
    "tags": []
   },
   "outputs": [],
   "source": [
    "X_train, X_test, y_train, y_test = train_test_split(X, y, test_size=0.2, random_state=42)\n",
    "\n",
    "feature_importance = pd.Series(model.feature_importances_, index=X.columns).sort_values(ascending=False)\n",
    "print(feature_importance)"
   ]
  },
  {
   "cell_type": "markdown",
   "id": "f4275198-5a30-4c6e-9038-eb366d1fbc67",
   "metadata": {
    "jp-MarkdownHeadingCollapsed": true,
    "tags": []
   },
   "source": [
    "# StandardScaler"
   ]
  },
  {
   "cell_type": "code",
   "execution_count": null,
   "id": "43a282ee-49c7-4de3-8599-81c99d9e65f9",
   "metadata": {},
   "outputs": [],
   "source": [
    "from sklearn.preprocessing import StandardScaler"
   ]
  },
  {
   "cell_type": "code",
   "execution_count": null,
   "id": "2aff828a-1f0b-4f55-b5c7-15fe8484eb9b",
   "metadata": {},
   "outputs": [],
   "source": [
    "scaler = StandardScaler()\n",
    "X_scaled = scaler.fit_transform(X)"
   ]
  },
  {
   "cell_type": "code",
   "execution_count": null,
   "id": "923dd552-d570-4f55-b9d3-e9535bd2d111",
   "metadata": {},
   "outputs": [],
   "source": [
    "# turn it back into a DataFrame\n",
    "X_scaled = pd.DataFrame(X_scaled, columns=X.columns, index=X.index)"
   ]
  },
  {
   "cell_type": "code",
   "execution_count": null,
   "id": "4e5160cf-b529-4ebe-92cc-823870f1f282",
   "metadata": {},
   "outputs": [],
   "source": []
  },
  {
   "cell_type": "code",
   "execution_count": null,
   "id": "c693b6fe-4e5e-46fc-922b-41a57a95e4bf",
   "metadata": {
    "tags": []
   },
   "outputs": [],
   "source": [
    "from sklearn.metrics import classification_report, roc_auc_score\n",
    "\n",
    "X = customer_df[['AMOUNT_ACCEPTED_OFFER', 'ENSCO_SCORE_BANKRUPTCY_MAX',\n",
    "       'BSMUL_OTHER_POSITION_GROSS_DEPOSIT_DOLLARS', 'POSITIONS',\n",
    "       'ENAGG_DELINQUENCIES_OVER_30CD_MAX', 'ENTRA_CRE_DELINQ_CNT_30D_MAX',\n",
    "       'BSMET_NSFS_AVG', 'UPSELL_MAX_OFFER', 'STIP_COUNT']]\n",
    "y = customer_df['STAGE_NAME']\n",
    "\n",
    "X_train, X_test, y_train, y_test = train_test_split(X, y, test_size=0.2, random_state=42)\n",
    "\n",
    "model = RandomForestClassifier()\n",
    "model.fit(X_train, y_train)\n",
    "\n",
    "y_pred = model.predict(X_test)\n",
    "print(classification_report(y_test, y_pred))"
   ]
  },
  {
   "cell_type": "code",
   "execution_count": null,
   "id": "c3e9ff11-c634-4b79-9f7f-467bce08daec",
   "metadata": {
    "tags": []
   },
   "outputs": [],
   "source": [
    "print(\"ROC AUC:\", roc_auc_score(y_test, model.predict_proba(X_test)[:,1]))"
   ]
  },
  {
   "cell_type": "markdown",
   "id": "7e6bacd5-e665-4f6d-ad1c-7225b739f137",
   "metadata": {
    "jp-MarkdownHeadingCollapsed": true,
    "tags": []
   },
   "source": [
    "# Using SHAP to understanding outputs"
   ]
  },
  {
   "cell_type": "code",
   "execution_count": null,
   "id": "6c9ad338-6acc-413d-be1d-1c39a745b79d",
   "metadata": {
    "tags": []
   },
   "outputs": [],
   "source": [
    "import shap\n",
    "\n",
    "explainer = shap.Explainer(model, X_train)\n",
    "shap_values = explainer(X_test)\n",
    "\n",
    "shap.summary_plot(shap_values, X_test)"
   ]
  },
  {
   "cell_type": "markdown",
   "id": "bf9747f6-fb7f-47f4-ad98-df95605ad9cd",
   "metadata": {},
   "source": [
    "# Train_Test_Split"
   ]
  },
  {
   "cell_type": "code",
   "execution_count": 41,
   "id": "48aaedf3-27e7-494d-ab63-420fee174ff8",
   "metadata": {
    "tags": []
   },
   "outputs": [],
   "source": [
    "from sklearn.model_selection import train_test_split"
   ]
  },
  {
   "cell_type": "code",
   "execution_count": 42,
   "id": "2b60ac2f-11ab-4f09-b865-ef8fcf6a758d",
   "metadata": {
    "tags": []
   },
   "outputs": [],
   "source": [
    "X = customer_df.drop('STAGE_NAME', axis=1)\n",
    "y = customer_df['STAGE_NAME']\n",
    "\n",
    "X_train, X_test, y_train, y_test = train_test_split(X, y, test_size=0.2, random_state=42)"
   ]
  },
  {
   "cell_type": "markdown",
   "id": "950afa38-c902-45b2-a9fa-c4809eb36a14",
   "metadata": {
    "tags": []
   },
   "source": [
    "# Using Logistic Regression"
   ]
  },
  {
   "cell_type": "code",
   "execution_count": 43,
   "id": "e00dd991-30a9-40bc-b94a-142767ff7b68",
   "metadata": {},
   "outputs": [],
   "source": [
    "from sklearn.linear_model import LogisticRegression\n",
    "from sklearn.metrics import classification_report, confusion_matrix, roc_auc_score"
   ]
  },
  {
   "cell_type": "code",
   "execution_count": 44,
   "id": "df1e9df5-ed81-4433-8c63-8b3b7cbf8fd8",
   "metadata": {},
   "outputs": [
    {
     "data": {
      "text/html": [
       "<style>#sk-container-id-1 {color: black;}#sk-container-id-1 pre{padding: 0;}#sk-container-id-1 div.sk-toggleable {background-color: white;}#sk-container-id-1 label.sk-toggleable__label {cursor: pointer;display: block;width: 100%;margin-bottom: 0;padding: 0.3em;box-sizing: border-box;text-align: center;}#sk-container-id-1 label.sk-toggleable__label-arrow:before {content: \"▸\";float: left;margin-right: 0.25em;color: #696969;}#sk-container-id-1 label.sk-toggleable__label-arrow:hover:before {color: black;}#sk-container-id-1 div.sk-estimator:hover label.sk-toggleable__label-arrow:before {color: black;}#sk-container-id-1 div.sk-toggleable__content {max-height: 0;max-width: 0;overflow: hidden;text-align: left;background-color: #f0f8ff;}#sk-container-id-1 div.sk-toggleable__content pre {margin: 0.2em;color: black;border-radius: 0.25em;background-color: #f0f8ff;}#sk-container-id-1 input.sk-toggleable__control:checked~div.sk-toggleable__content {max-height: 200px;max-width: 100%;overflow: auto;}#sk-container-id-1 input.sk-toggleable__control:checked~label.sk-toggleable__label-arrow:before {content: \"▾\";}#sk-container-id-1 div.sk-estimator input.sk-toggleable__control:checked~label.sk-toggleable__label {background-color: #d4ebff;}#sk-container-id-1 div.sk-label input.sk-toggleable__control:checked~label.sk-toggleable__label {background-color: #d4ebff;}#sk-container-id-1 input.sk-hidden--visually {border: 0;clip: rect(1px 1px 1px 1px);clip: rect(1px, 1px, 1px, 1px);height: 1px;margin: -1px;overflow: hidden;padding: 0;position: absolute;width: 1px;}#sk-container-id-1 div.sk-estimator {font-family: monospace;background-color: #f0f8ff;border: 1px dotted black;border-radius: 0.25em;box-sizing: border-box;margin-bottom: 0.5em;}#sk-container-id-1 div.sk-estimator:hover {background-color: #d4ebff;}#sk-container-id-1 div.sk-parallel-item::after {content: \"\";width: 100%;border-bottom: 1px solid gray;flex-grow: 1;}#sk-container-id-1 div.sk-label:hover label.sk-toggleable__label {background-color: #d4ebff;}#sk-container-id-1 div.sk-serial::before {content: \"\";position: absolute;border-left: 1px solid gray;box-sizing: border-box;top: 0;bottom: 0;left: 50%;z-index: 0;}#sk-container-id-1 div.sk-serial {display: flex;flex-direction: column;align-items: center;background-color: white;padding-right: 0.2em;padding-left: 0.2em;position: relative;}#sk-container-id-1 div.sk-item {position: relative;z-index: 1;}#sk-container-id-1 div.sk-parallel {display: flex;align-items: stretch;justify-content: center;background-color: white;position: relative;}#sk-container-id-1 div.sk-item::before, #sk-container-id-1 div.sk-parallel-item::before {content: \"\";position: absolute;border-left: 1px solid gray;box-sizing: border-box;top: 0;bottom: 0;left: 50%;z-index: -1;}#sk-container-id-1 div.sk-parallel-item {display: flex;flex-direction: column;z-index: 1;position: relative;background-color: white;}#sk-container-id-1 div.sk-parallel-item:first-child::after {align-self: flex-end;width: 50%;}#sk-container-id-1 div.sk-parallel-item:last-child::after {align-self: flex-start;width: 50%;}#sk-container-id-1 div.sk-parallel-item:only-child::after {width: 0;}#sk-container-id-1 div.sk-dashed-wrapped {border: 1px dashed gray;margin: 0 0.4em 0.5em 0.4em;box-sizing: border-box;padding-bottom: 0.4em;background-color: white;}#sk-container-id-1 div.sk-label label {font-family: monospace;font-weight: bold;display: inline-block;line-height: 1.2em;}#sk-container-id-1 div.sk-label-container {text-align: center;}#sk-container-id-1 div.sk-container {/* jupyter's `normalize.less` sets `[hidden] { display: none; }` but bootstrap.min.css set `[hidden] { display: none !important; }` so we also need the `!important` here to be able to override the default hidden behavior on the sphinx rendered scikit-learn.org. See: https://github.com/scikit-learn/scikit-learn/issues/21755 */display: inline-block !important;position: relative;}#sk-container-id-1 div.sk-text-repr-fallback {display: none;}</style><div id=\"sk-container-id-1\" class=\"sk-top-container\"><div class=\"sk-text-repr-fallback\"><pre>LogisticRegression(max_iter=1000)</pre><b>In a Jupyter environment, please rerun this cell to show the HTML representation or trust the notebook. <br />On GitHub, the HTML representation is unable to render, please try loading this page with nbviewer.org.</b></div><div class=\"sk-container\" hidden><div class=\"sk-item\"><div class=\"sk-estimator sk-toggleable\"><input class=\"sk-toggleable__control sk-hidden--visually\" id=\"sk-estimator-id-1\" type=\"checkbox\" checked><label for=\"sk-estimator-id-1\" class=\"sk-toggleable__label sk-toggleable__label-arrow\">LogisticRegression</label><div class=\"sk-toggleable__content\"><pre>LogisticRegression(max_iter=1000)</pre></div></div></div></div></div>"
      ],
      "text/plain": [
       "LogisticRegression(max_iter=1000)"
      ]
     },
     "execution_count": 44,
     "metadata": {},
     "output_type": "execute_result"
    }
   ],
   "source": [
    "log_model = LogisticRegression(max_iter=1000)\n",
    "log_model.fit(X_train, y_train)"
   ]
  },
  {
   "cell_type": "code",
   "execution_count": 45,
   "id": "c7b17fe9-87f3-4f7e-8e06-a52430269b77",
   "metadata": {},
   "outputs": [],
   "source": [
    "log_y_pred = log_model.predict(X_test)\n",
    "log_y_proba = log_model.predict_proba(X_test)[:, 1]"
   ]
  },
  {
   "cell_type": "code",
   "execution_count": 46,
   "id": "15e2bf91-02db-4a87-a66d-5ba47c032808",
   "metadata": {
    "tags": []
   },
   "outputs": [
    {
     "name": "stdout",
     "output_type": "stream",
     "text": [
      "[[43914   758]\n",
      " [ 3253   723]]\n",
      "              precision    recall  f1-score   support\n",
      "\n",
      "           0       0.93      0.98      0.96     44672\n",
      "           1       0.49      0.18      0.26      3976\n",
      "\n",
      "    accuracy                           0.92     48648\n",
      "   macro avg       0.71      0.58      0.61     48648\n",
      "weighted avg       0.89      0.92      0.90     48648\n",
      "\n",
      "ROC AUC Score: 0.9172466580013752\n"
     ]
    }
   ],
   "source": [
    "print(confusion_matrix(y_test, log_y_pred))\n",
    "print(classification_report(y_test, log_y_pred))\n",
    "print(\"ROC AUC Score:\", roc_auc_score(y_test, log_y_proba))"
   ]
  },
  {
   "cell_type": "markdown",
   "id": "d55405ca-f93e-4cc1-bb62-fae81e2c9b59",
   "metadata": {
    "tags": []
   },
   "source": [
    "# Using XGBoost"
   ]
  },
  {
   "cell_type": "code",
   "execution_count": 47,
   "id": "73f32511-d855-4e53-b01a-5511203fd9e1",
   "metadata": {},
   "outputs": [],
   "source": [
    "import xgboost as xgb\n",
    "from xgboost import XGBClassifier\n",
    "from sklearn.metrics import classification_report, confusion_matrix, roc_auc_score"
   ]
  },
  {
   "cell_type": "code",
   "execution_count": 48,
   "id": "17ee6ea6-2a3b-4dc9-8d12-a26236229b23",
   "metadata": {},
   "outputs": [
    {
     "name": "stderr",
     "output_type": "stream",
     "text": [
      "/Users/alexlei/anaconda3/lib/python3.11/site-packages/xgboost/training.py:183: UserWarning: [20:58:44] WARNING: /Users/runner/work/xgboost/xgboost/src/learner.cc:738: \n",
      "Parameters: { \"use_label_encoder\" } are not used.\n",
      "\n",
      "  bst.update(dtrain, iteration=i, fobj=obj)\n"
     ]
    },
    {
     "data": {
      "text/html": [
       "<style>#sk-container-id-2 {color: black;}#sk-container-id-2 pre{padding: 0;}#sk-container-id-2 div.sk-toggleable {background-color: white;}#sk-container-id-2 label.sk-toggleable__label {cursor: pointer;display: block;width: 100%;margin-bottom: 0;padding: 0.3em;box-sizing: border-box;text-align: center;}#sk-container-id-2 label.sk-toggleable__label-arrow:before {content: \"▸\";float: left;margin-right: 0.25em;color: #696969;}#sk-container-id-2 label.sk-toggleable__label-arrow:hover:before {color: black;}#sk-container-id-2 div.sk-estimator:hover label.sk-toggleable__label-arrow:before {color: black;}#sk-container-id-2 div.sk-toggleable__content {max-height: 0;max-width: 0;overflow: hidden;text-align: left;background-color: #f0f8ff;}#sk-container-id-2 div.sk-toggleable__content pre {margin: 0.2em;color: black;border-radius: 0.25em;background-color: #f0f8ff;}#sk-container-id-2 input.sk-toggleable__control:checked~div.sk-toggleable__content {max-height: 200px;max-width: 100%;overflow: auto;}#sk-container-id-2 input.sk-toggleable__control:checked~label.sk-toggleable__label-arrow:before {content: \"▾\";}#sk-container-id-2 div.sk-estimator input.sk-toggleable__control:checked~label.sk-toggleable__label {background-color: #d4ebff;}#sk-container-id-2 div.sk-label input.sk-toggleable__control:checked~label.sk-toggleable__label {background-color: #d4ebff;}#sk-container-id-2 input.sk-hidden--visually {border: 0;clip: rect(1px 1px 1px 1px);clip: rect(1px, 1px, 1px, 1px);height: 1px;margin: -1px;overflow: hidden;padding: 0;position: absolute;width: 1px;}#sk-container-id-2 div.sk-estimator {font-family: monospace;background-color: #f0f8ff;border: 1px dotted black;border-radius: 0.25em;box-sizing: border-box;margin-bottom: 0.5em;}#sk-container-id-2 div.sk-estimator:hover {background-color: #d4ebff;}#sk-container-id-2 div.sk-parallel-item::after {content: \"\";width: 100%;border-bottom: 1px solid gray;flex-grow: 1;}#sk-container-id-2 div.sk-label:hover label.sk-toggleable__label {background-color: #d4ebff;}#sk-container-id-2 div.sk-serial::before {content: \"\";position: absolute;border-left: 1px solid gray;box-sizing: border-box;top: 0;bottom: 0;left: 50%;z-index: 0;}#sk-container-id-2 div.sk-serial {display: flex;flex-direction: column;align-items: center;background-color: white;padding-right: 0.2em;padding-left: 0.2em;position: relative;}#sk-container-id-2 div.sk-item {position: relative;z-index: 1;}#sk-container-id-2 div.sk-parallel {display: flex;align-items: stretch;justify-content: center;background-color: white;position: relative;}#sk-container-id-2 div.sk-item::before, #sk-container-id-2 div.sk-parallel-item::before {content: \"\";position: absolute;border-left: 1px solid gray;box-sizing: border-box;top: 0;bottom: 0;left: 50%;z-index: -1;}#sk-container-id-2 div.sk-parallel-item {display: flex;flex-direction: column;z-index: 1;position: relative;background-color: white;}#sk-container-id-2 div.sk-parallel-item:first-child::after {align-self: flex-end;width: 50%;}#sk-container-id-2 div.sk-parallel-item:last-child::after {align-self: flex-start;width: 50%;}#sk-container-id-2 div.sk-parallel-item:only-child::after {width: 0;}#sk-container-id-2 div.sk-dashed-wrapped {border: 1px dashed gray;margin: 0 0.4em 0.5em 0.4em;box-sizing: border-box;padding-bottom: 0.4em;background-color: white;}#sk-container-id-2 div.sk-label label {font-family: monospace;font-weight: bold;display: inline-block;line-height: 1.2em;}#sk-container-id-2 div.sk-label-container {text-align: center;}#sk-container-id-2 div.sk-container {/* jupyter's `normalize.less` sets `[hidden] { display: none; }` but bootstrap.min.css set `[hidden] { display: none !important; }` so we also need the `!important` here to be able to override the default hidden behavior on the sphinx rendered scikit-learn.org. See: https://github.com/scikit-learn/scikit-learn/issues/21755 */display: inline-block !important;position: relative;}#sk-container-id-2 div.sk-text-repr-fallback {display: none;}</style><div id=\"sk-container-id-2\" class=\"sk-top-container\"><div class=\"sk-text-repr-fallback\"><pre>XGBClassifier(base_score=None, booster=None, callbacks=None,\n",
       "              colsample_bylevel=None, colsample_bynode=None,\n",
       "              colsample_bytree=None, device=None, early_stopping_rounds=None,\n",
       "              enable_categorical=False, eval_metric=&#x27;logloss&#x27;,\n",
       "              feature_types=None, feature_weights=None, gamma=None,\n",
       "              grow_policy=None, importance_type=None,\n",
       "              interaction_constraints=None, learning_rate=None, max_bin=None,\n",
       "              max_cat_threshold=None, max_cat_to_onehot=None,\n",
       "              max_delta_step=None, max_depth=3, max_leaves=None,\n",
       "              min_child_weight=None, missing=nan, monotone_constraints=None,\n",
       "              multi_strategy=None, n_estimators=50, n_jobs=None,\n",
       "              num_parallel_tree=None, ...)</pre><b>In a Jupyter environment, please rerun this cell to show the HTML representation or trust the notebook. <br />On GitHub, the HTML representation is unable to render, please try loading this page with nbviewer.org.</b></div><div class=\"sk-container\" hidden><div class=\"sk-item\"><div class=\"sk-estimator sk-toggleable\"><input class=\"sk-toggleable__control sk-hidden--visually\" id=\"sk-estimator-id-2\" type=\"checkbox\" checked><label for=\"sk-estimator-id-2\" class=\"sk-toggleable__label sk-toggleable__label-arrow\">XGBClassifier</label><div class=\"sk-toggleable__content\"><pre>XGBClassifier(base_score=None, booster=None, callbacks=None,\n",
       "              colsample_bylevel=None, colsample_bynode=None,\n",
       "              colsample_bytree=None, device=None, early_stopping_rounds=None,\n",
       "              enable_categorical=False, eval_metric=&#x27;logloss&#x27;,\n",
       "              feature_types=None, feature_weights=None, gamma=None,\n",
       "              grow_policy=None, importance_type=None,\n",
       "              interaction_constraints=None, learning_rate=None, max_bin=None,\n",
       "              max_cat_threshold=None, max_cat_to_onehot=None,\n",
       "              max_delta_step=None, max_depth=3, max_leaves=None,\n",
       "              min_child_weight=None, missing=nan, monotone_constraints=None,\n",
       "              multi_strategy=None, n_estimators=50, n_jobs=None,\n",
       "              num_parallel_tree=None, ...)</pre></div></div></div></div></div>"
      ],
      "text/plain": [
       "XGBClassifier(base_score=None, booster=None, callbacks=None,\n",
       "              colsample_bylevel=None, colsample_bynode=None,\n",
       "              colsample_bytree=None, device=None, early_stopping_rounds=None,\n",
       "              enable_categorical=False, eval_metric='logloss',\n",
       "              feature_types=None, feature_weights=None, gamma=None,\n",
       "              grow_policy=None, importance_type=None,\n",
       "              interaction_constraints=None, learning_rate=None, max_bin=None,\n",
       "              max_cat_threshold=None, max_cat_to_onehot=None,\n",
       "              max_delta_step=None, max_depth=3, max_leaves=None,\n",
       "              min_child_weight=None, missing=nan, monotone_constraints=None,\n",
       "              multi_strategy=None, n_estimators=50, n_jobs=None,\n",
       "              num_parallel_tree=None, ...)"
      ]
     },
     "execution_count": 48,
     "metadata": {},
     "output_type": "execute_result"
    }
   ],
   "source": [
    "xgb_model = XGBClassifier(n_estimators=50, max_depth=3, use_label_encoder=False, eval_metric='logloss')\n",
    "xgb_model.fit(X_train, y_train)"
   ]
  },
  {
   "cell_type": "code",
   "execution_count": 49,
   "id": "dbd35a47-953a-4033-a506-191b0bd50f43",
   "metadata": {
    "tags": []
   },
   "outputs": [],
   "source": [
    "xgb_y_pred = xgb_model.predict(X_test)\n",
    "xgb_y_proba = xgb_model.predict_proba(X_test)[:, 1]"
   ]
  },
  {
   "cell_type": "code",
   "execution_count": 50,
   "id": "4bc1c6e2-1633-4055-9a1d-1f241de28e33",
   "metadata": {
    "tags": []
   },
   "outputs": [
    {
     "name": "stdout",
     "output_type": "stream",
     "text": [
      "[[42975  1697]\n",
      " [ 1054  2922]]\n",
      "              precision    recall  f1-score   support\n",
      "\n",
      "           0       0.98      0.96      0.97     44672\n",
      "           1       0.63      0.73      0.68      3976\n",
      "\n",
      "    accuracy                           0.94     48648\n",
      "   macro avg       0.80      0.85      0.82     48648\n",
      "weighted avg       0.95      0.94      0.95     48648\n",
      "\n",
      "ROC AUC Score: 0.9754977331079961\n"
     ]
    }
   ],
   "source": [
    "print(confusion_matrix(y_test, xgb_y_pred))\n",
    "print(classification_report(y_test, xgb_y_pred))\n",
    "print(\"ROC AUC Score:\", roc_auc_score(y_test, xgb_y_proba))"
   ]
  },
  {
   "cell_type": "code",
   "execution_count": 51,
   "id": "7c5a0981-2323-42c7-8748-a54310da71fe",
   "metadata": {},
   "outputs": [
    {
     "data": {
      "image/png": "[encoded data removed]",
      "text/plain": [
       "<Figure size 640x480 with 1 Axes>"
      ]
     },
     "metadata": {},
     "output_type": "display_data"
    }
   ],
   "source": [
    "# check feature importance\n",
    "from xgboost import plot_importance\n",
    "plot_importance(xgb_model, max_num_features=10, importance_type='gain')\n",
    "plt.title(\"Top 10 Feature Importances\")\n",
    "plt.show()"
   ]
  },
  {
   "cell_type": "markdown",
   "id": "e938465b-3aec-40ed-a2bf-2e08f10782ca",
   "metadata": {},
   "source": [
    "### Assuming AMOUNT_ACCEPTED_OFFER can be ignored since it's only relevant if the deal is Funded\n",
    "### POSITIONS column (which is the exisiting financing counts) seems to be the most important feature here"
   ]
  },
  {
   "cell_type": "code",
   "execution_count": null,
   "id": "cf4e1dff-5097-4eff-92c7-b1c583688754",
   "metadata": {
    "tags": []
   },
   "outputs": [],
   "source": [
    "# using SHAP to explain predictions\n",
    "\n",
    "xgb_explainer = shap.Explainer(xgb_model, X_train)\n",
    "xgb_shap_values = explainer(X_test)\n",
    "\n",
    "shap.summary_plot(xgb_shap_values, X_test)\n",
    "shap.plots.force(shap_values[0])"
   ]
  },
  {
   "cell_type": "code",
   "execution_count": null,
   "id": "84bf83fd-62b6-4940-b294-0d2e43090833",
   "metadata": {},
   "outputs": [],
   "source": []
  }
 ],
 "metadata": {
  "kernelspec": {
   "display_name": "Python 3 (ipykernel)",
   "language": "python",
   "name": "python3"
  },
  "language_info": {
   "codemirror_mode": {
    "name": "ipython",
    "version": 3
   },
   "file_extension": ".py",
   "mimetype": "text/x-python",
   "name": "python",
   "nbconvert_exporter": "python",
   "pygments_lexer": "ipython3",
   "version": "3.11.5"
  }
 },
 "nbformat": 4,
 "nbformat_minor": 5
}
